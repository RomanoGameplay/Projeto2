{
 "cells": [
  {
   "cell_type": "code",
   "execution_count": 1,
   "id": "6801b1c0",
   "metadata": {},
   "outputs": [],
   "source": [
    "import plotly.express as px\n",
    "import pandas as pd"
   ]
  },
  {
   "cell_type": "code",
   "execution_count": 2,
   "id": "10d383bd",
   "metadata": {},
   "outputs": [
    {
     "data": {
      "text/html": [
       "<div>\n",
       "<style scoped>\n",
       "    .dataframe tbody tr th:only-of-type {\n",
       "        vertical-align: middle;\n",
       "    }\n",
       "\n",
       "    .dataframe tbody tr th {\n",
       "        vertical-align: top;\n",
       "    }\n",
       "\n",
       "    .dataframe thead th {\n",
       "        text-align: right;\n",
       "    }\n",
       "</style>\n",
       "<table border=\"1\" class=\"dataframe\">\n",
       "  <thead>\n",
       "    <tr style=\"text-align: right;\">\n",
       "      <th></th>\n",
       "      <th>Unnamed: 0</th>\n",
       "      <th>Game</th>\n",
       "      <th>Year</th>\n",
       "      <th>Genre</th>\n",
       "      <th>Publisher</th>\n",
       "      <th>North America</th>\n",
       "      <th>Europe</th>\n",
       "      <th>Japan</th>\n",
       "      <th>Rest of World</th>\n",
       "      <th>Global</th>\n",
       "    </tr>\n",
       "  </thead>\n",
       "  <tbody>\n",
       "    <tr>\n",
       "      <th>0</th>\n",
       "      <td>0</td>\n",
       "      <td>Grand Theft Auto V</td>\n",
       "      <td>2014</td>\n",
       "      <td>Action</td>\n",
       "      <td>Rockstar Games</td>\n",
       "      <td>4700000.0</td>\n",
       "      <td>3250000.0</td>\n",
       "      <td>10000.0</td>\n",
       "      <td>760000.0</td>\n",
       "      <td>8720000.0</td>\n",
       "    </tr>\n",
       "    <tr>\n",
       "      <th>1</th>\n",
       "      <td>1</td>\n",
       "      <td>Call of Duty: Black Ops 3</td>\n",
       "      <td>2015</td>\n",
       "      <td>Shooter</td>\n",
       "      <td>Activision</td>\n",
       "      <td>4630000.0</td>\n",
       "      <td>2040000.0</td>\n",
       "      <td>20000.0</td>\n",
       "      <td>680000.0</td>\n",
       "      <td>7370000.0</td>\n",
       "    </tr>\n",
       "    <tr>\n",
       "      <th>2</th>\n",
       "      <td>2</td>\n",
       "      <td>Call of Duty: WWII</td>\n",
       "      <td>2017</td>\n",
       "      <td>Shooter</td>\n",
       "      <td>Activision</td>\n",
       "      <td>3750000.0</td>\n",
       "      <td>1910000.0</td>\n",
       "      <td>0.0</td>\n",
       "      <td>570000.0</td>\n",
       "      <td>6230000.0</td>\n",
       "    </tr>\n",
       "    <tr>\n",
       "      <th>3</th>\n",
       "      <td>3</td>\n",
       "      <td>Red Dead Redemption 2</td>\n",
       "      <td>2018</td>\n",
       "      <td>Action-Adventure</td>\n",
       "      <td>Rockstar Games</td>\n",
       "      <td>3760000.0</td>\n",
       "      <td>1470000.0</td>\n",
       "      <td>0.0</td>\n",
       "      <td>540000.0</td>\n",
       "      <td>5770000.0</td>\n",
       "    </tr>\n",
       "    <tr>\n",
       "      <th>4</th>\n",
       "      <td>4</td>\n",
       "      <td>MineCraft</td>\n",
       "      <td>2014</td>\n",
       "      <td>Misc</td>\n",
       "      <td>Microsoft Studios</td>\n",
       "      <td>3230000.0</td>\n",
       "      <td>1710000.0</td>\n",
       "      <td>0.0</td>\n",
       "      <td>490000.0</td>\n",
       "      <td>5430000.0</td>\n",
       "    </tr>\n",
       "  </tbody>\n",
       "</table>\n",
       "</div>"
      ],
      "text/plain": [
       "   Unnamed: 0                       Game  Year             Genre  \\\n",
       "0           0         Grand Theft Auto V  2014            Action   \n",
       "1           1  Call of Duty: Black Ops 3  2015           Shooter   \n",
       "2           2         Call of Duty: WWII  2017           Shooter   \n",
       "3           3      Red Dead Redemption 2  2018  Action-Adventure   \n",
       "4           4                  MineCraft  2014              Misc   \n",
       "\n",
       "           Publisher  North America     Europe    Japan  Rest of World  \\\n",
       "0     Rockstar Games      4700000.0  3250000.0  10000.0       760000.0   \n",
       "1         Activision      4630000.0  2040000.0  20000.0       680000.0   \n",
       "2         Activision      3750000.0  1910000.0      0.0       570000.0   \n",
       "3     Rockstar Games      3760000.0  1470000.0      0.0       540000.0   \n",
       "4  Microsoft Studios      3230000.0  1710000.0      0.0       490000.0   \n",
       "\n",
       "      Global  \n",
       "0  8720000.0  \n",
       "1  7370000.0  \n",
       "2  6230000.0  \n",
       "3  5770000.0  \n",
       "4  5430000.0  "
      ]
     },
     "execution_count": 2,
     "metadata": {},
     "output_type": "execute_result"
    }
   ],
   "source": [
    "df_xbox = pd.read_csv('df_xbox.csv', encoding='latin-1')\n",
    "df_xbox.head()"
   ]
  },
  {
   "cell_type": "code",
   "execution_count": 3,
   "id": "6ed0c681",
   "metadata": {},
   "outputs": [
    {
     "data": {
      "text/html": [
       "<div>\n",
       "<style scoped>\n",
       "    .dataframe tbody tr th:only-of-type {\n",
       "        vertical-align: middle;\n",
       "    }\n",
       "\n",
       "    .dataframe tbody tr th {\n",
       "        vertical-align: top;\n",
       "    }\n",
       "\n",
       "    .dataframe thead th {\n",
       "        text-align: right;\n",
       "    }\n",
       "</style>\n",
       "<table border=\"1\" class=\"dataframe\">\n",
       "  <thead>\n",
       "    <tr style=\"text-align: right;\">\n",
       "      <th></th>\n",
       "      <th>Unnamed: 0</th>\n",
       "      <th>Game</th>\n",
       "      <th>Year</th>\n",
       "      <th>Genre</th>\n",
       "      <th>Publisher</th>\n",
       "      <th>North America</th>\n",
       "      <th>Europe</th>\n",
       "      <th>Japan</th>\n",
       "      <th>Rest of World</th>\n",
       "      <th>Global</th>\n",
       "    </tr>\n",
       "  </thead>\n",
       "  <tbody>\n",
       "    <tr>\n",
       "      <th>0</th>\n",
       "      <td>0</td>\n",
       "      <td>Grand Theft Auto V</td>\n",
       "      <td>2014</td>\n",
       "      <td>Action</td>\n",
       "      <td>Rockstar Games</td>\n",
       "      <td>6060000.0</td>\n",
       "      <td>9710000.0</td>\n",
       "      <td>600000.0</td>\n",
       "      <td>3020000.0</td>\n",
       "      <td>19390000.0</td>\n",
       "    </tr>\n",
       "    <tr>\n",
       "      <th>1</th>\n",
       "      <td>1</td>\n",
       "      <td>Call of Duty: Black Ops 3</td>\n",
       "      <td>2015</td>\n",
       "      <td>Shooter</td>\n",
       "      <td>Activision</td>\n",
       "      <td>6180000.0</td>\n",
       "      <td>6050000.0</td>\n",
       "      <td>410000.0</td>\n",
       "      <td>2440000.0</td>\n",
       "      <td>15080000.0</td>\n",
       "    </tr>\n",
       "    <tr>\n",
       "      <th>2</th>\n",
       "      <td>2</td>\n",
       "      <td>Red Dead Redemption 2</td>\n",
       "      <td>2018</td>\n",
       "      <td>Action-Adventure</td>\n",
       "      <td>Rockstar Games</td>\n",
       "      <td>5260000.0</td>\n",
       "      <td>6210000.0</td>\n",
       "      <td>210000.0</td>\n",
       "      <td>2260000.0</td>\n",
       "      <td>13940000.0</td>\n",
       "    </tr>\n",
       "    <tr>\n",
       "      <th>3</th>\n",
       "      <td>3</td>\n",
       "      <td>Call of Duty: WWII</td>\n",
       "      <td>2017</td>\n",
       "      <td>Shooter</td>\n",
       "      <td>Activision</td>\n",
       "      <td>4670000.0</td>\n",
       "      <td>6210000.0</td>\n",
       "      <td>400000.0</td>\n",
       "      <td>2120000.0</td>\n",
       "      <td>13400000.0</td>\n",
       "    </tr>\n",
       "    <tr>\n",
       "      <th>4</th>\n",
       "      <td>4</td>\n",
       "      <td>FIFA 18</td>\n",
       "      <td>2017</td>\n",
       "      <td>Sports</td>\n",
       "      <td>EA Sports</td>\n",
       "      <td>1270000.0</td>\n",
       "      <td>8640000.0</td>\n",
       "      <td>150000.0</td>\n",
       "      <td>1730000.0</td>\n",
       "      <td>11790000.0</td>\n",
       "    </tr>\n",
       "  </tbody>\n",
       "</table>\n",
       "</div>"
      ],
      "text/plain": [
       "   Unnamed: 0                       Game  Year             Genre  \\\n",
       "0           0         Grand Theft Auto V  2014            Action   \n",
       "1           1  Call of Duty: Black Ops 3  2015           Shooter   \n",
       "2           2      Red Dead Redemption 2  2018  Action-Adventure   \n",
       "3           3         Call of Duty: WWII  2017           Shooter   \n",
       "4           4                    FIFA 18  2017            Sports   \n",
       "\n",
       "        Publisher  North America     Europe     Japan  Rest of World  \\\n",
       "0  Rockstar Games      6060000.0  9710000.0  600000.0      3020000.0   \n",
       "1      Activision      6180000.0  6050000.0  410000.0      2440000.0   \n",
       "2  Rockstar Games      5260000.0  6210000.0  210000.0      2260000.0   \n",
       "3      Activision      4670000.0  6210000.0  400000.0      2120000.0   \n",
       "4       EA Sports      1270000.0  8640000.0  150000.0      1730000.0   \n",
       "\n",
       "       Global  \n",
       "0  19390000.0  \n",
       "1  15080000.0  \n",
       "2  13940000.0  \n",
       "3  13400000.0  \n",
       "4  11790000.0  "
      ]
     },
     "execution_count": 3,
     "metadata": {},
     "output_type": "execute_result"
    }
   ],
   "source": [
    "df_ps4 = pd.read_csv('df_ps4.csv', encoding='latin-1')\n",
    "df_ps4.head()"
   ]
  },
  {
   "cell_type": "code",
   "execution_count": 4,
   "id": "9a687ec8",
   "metadata": {
    "scrolled": false
   },
   "outputs": [],
   "source": [
    "def histogram(df, x=None, y=None, category=None, histfunc='count', visiblex=True, visibley=False, barnorm=None, histnorm=None, color=None, orientation=None, text_auto=True, nbins=None, title='', width=850, height=1000):\n",
    "\n",
    "    fig = px.histogram(\n",
    "        df, \n",
    "        x, \n",
    "        y,\n",
    "        nbins=nbins,\n",
    "        template='seaborn',\n",
    "        text_auto=text_auto,\n",
    "        histfunc=histfunc,\n",
    "        width=width,\n",
    "        height=height,\n",
    "        title=title,\n",
    "        color=color,\n",
    "        histnorm=histnorm,\n",
    "        barnorm=barnorm,\n",
    "        category_orders=category,\n",
    "        orientation=orientation\n",
    "    )\n",
    "    if histnorm == 'percent' or barnorm == 'percent':\n",
    "        fig.update_traces(\n",
    "            textfont_size=16,\n",
    "            texttemplate='%{x:.2f}%',\n",
    "            hoverinfo='skip',\n",
    "            hovertemplate=None\n",
    "        )\n",
    "    else:\n",
    "        fig.update_traces(\n",
    "            textfont_size=16,\n",
    "            hoverinfo='skip',\n",
    "            hovertemplate=None\n",
    "        )\n",
    "        \n",
    "    \n",
    "    fig.update_layout(\n",
    "        bargap=0.2,\n",
    "        paper_bgcolor='rgba(0,0,0,0)', \n",
    "        plot_bgcolor='rgba(0,0,0,0)',\n",
    "        font=dict(size=16),\n",
    "        margin=dict(l=20, r=20, pad=20),\n",
    "        title=dict(xanchor='left', yanchor='top', x=0.01, y=0.95)\n",
    "        \n",
    "    )\n",
    "    \n",
    "    fig.update_xaxes(\n",
    "        zeroline=False, \n",
    "        showgrid=False,\n",
    "        title='',\n",
    "        visible=visiblex\n",
    "    )\n",
    "    fig.update_yaxes(\n",
    "        zeroline=False, \n",
    "        showgrid=False,\n",
    "        categoryorder='total ascending',\n",
    "        automargin=True,\n",
    "        title='',\n",
    "        visible=visibley\n",
    "        \n",
    "    )\n",
    "    \n",
    "    return fig"
   ]
  },
  {
   "cell_type": "code",
   "execution_count": 5,
   "id": "b11887d4",
   "metadata": {
    "scrolled": true
   },
   "outputs": [
    {
     "data": {
      "application/vnd.plotly.v1+json": {
       "config": {
        "plotlyServerURL": "https://plot.ly"
       },
       "data": [
        {
         "alignmentgroup": "True",
         "bingroup": "y",
         "histfunc": "count",
         "hoverinfo": "skip",
         "legendgroup": "",
         "marker": {
          "color": "rgb(76,114,176)",
          "pattern": {
           "shape": ""
          }
         },
         "name": "",
         "offsetgroup": "",
         "orientation": "h",
         "showlegend": false,
         "textfont": {
          "size": 16
         },
         "texttemplate": "%{value}",
         "type": "histogram",
         "xaxis": "x",
         "y": [
          "Action",
          "Shooter",
          "Action-Adventure",
          "Shooter",
          "Sports",
          "Sports",
          "Action",
          "Action-Adventure",
          "Shooter",
          "Role-Playing",
          "Sports",
          "Shooter",
          "Shooter",
          "Shooter",
          "Action-Adventure",
          "Misc",
          "Sports",
          "Action",
          "Action",
          "Shooter",
          "Action",
          "Role-Playing",
          "Role-Playing",
          "Platform",
          "Action",
          "Shooter",
          "Shooter",
          "Shooter",
          "Shooter",
          "Action-Adventure",
          "Shooter",
          "Action",
          "Shooter",
          "Action",
          "Action",
          "Shooter",
          "Sports",
          "Action",
          "Shooter",
          "Racing",
          "Action",
          "Sports",
          "Fighting",
          "Sports",
          "Role-Playing",
          "Action",
          "Sports",
          "Action",
          "Sports",
          "Sports",
          "Action",
          "Action-Adventure",
          "Shooter",
          "Role-Playing",
          "Action",
          "Shooter",
          "Action-Adventure",
          "Shooter",
          "Action-Adventure",
          "Role-Playing",
          "Action-Adventure",
          "Racing",
          "Sports",
          "Sports",
          "Action",
          "Role-Playing",
          "Platform",
          "Racing",
          "Action",
          "Role-Playing",
          "Action-Adventure",
          "Sports",
          "Racing",
          "Shooter",
          "Racing",
          "Misc",
          "Shooter",
          "Adventure",
          "Platform",
          "MMO",
          "Action",
          "Role-Playing",
          "Sports",
          "Action-Adventure",
          "Action",
          "Action",
          "Adventure",
          "Platform",
          "Action",
          "Racing",
          "Role-Playing",
          "Action",
          "Shooter",
          "Fighting",
          "Role-Playing",
          "Fighting",
          "Role-Playing",
          "Shooter",
          "Shooter",
          "Adventure",
          "Fighting",
          "Sports",
          "Action-Adventure",
          "Action",
          "Platform",
          "Role-Playing",
          "Fighting",
          "Role-Playing",
          "Simulation",
          "Fighting",
          "Shooter",
          "Sports",
          "Action-Adventure",
          "Sports",
          "Action-Adventure",
          "Sports",
          "Shooter",
          "Racing",
          "Sports",
          "Music",
          "Action-Adventure",
          "Action",
          "Action-Adventure",
          "Role-Playing",
          "Fighting",
          "Action",
          "Action",
          "Sports",
          "Sports",
          "Misc",
          "Role-Playing",
          "Action",
          "Fighting",
          "Role-Playing",
          "Adventure",
          "Sports",
          "Action",
          "Shooter",
          "Role-Playing",
          "Action",
          "Sports",
          "Sports",
          "Action",
          "Shooter",
          "Fighting",
          "Sports",
          "Sports",
          "Sports",
          "Action",
          "Role-Playing",
          "Role-Playing",
          "Action",
          "Action",
          "Action",
          "Adventure",
          "Shooter",
          "Action",
          "Shooter",
          "Action",
          "Simulation",
          "Racing",
          "Sports",
          "Action",
          "Action",
          "Action",
          "MMO",
          "Shooter",
          "Racing",
          "Action",
          "Sports",
          "Platform",
          "Sports",
          "Action-Adventure",
          "Sports",
          "Shooter",
          "Sports",
          "Racing",
          "Role-Playing",
          "Action-Adventure",
          "Fighting",
          "Role-Playing",
          "Adventure",
          "Racing",
          "Shooter",
          "Music",
          "Sports",
          "Shooter",
          "Role-Playing",
          "Adventure",
          "Fighting",
          "Action",
          "Shooter",
          "Action-Adventure",
          "Role-Playing",
          "Racing",
          "Sports",
          "Party",
          "Adventure",
          "Adventure",
          "Shooter",
          "Role-Playing",
          "Action",
          "Action",
          "Music",
          "Sports",
          "Sports",
          "Action-Adventure",
          "Shooter",
          "Platform",
          "Role-Playing",
          "Role-Playing",
          "Shooter",
          "Sports",
          "Racing",
          "Platform",
          "Sports",
          "Action",
          "Racing",
          "Shooter",
          "Action",
          "Racing",
          "Shooter",
          "Shooter",
          "Action",
          "Action",
          "Adventure",
          "Shooter",
          "Action",
          "Action",
          "Racing",
          "Platform",
          "Music",
          "Fighting",
          "Action-Adventure",
          "Adventure",
          "Role-Playing",
          "Role-Playing",
          "Action",
          "Misc",
          "Platform",
          "Misc",
          "Action",
          "Action",
          "Platform",
          "Simulation",
          "Music",
          "Role-Playing",
          "Music",
          "Action",
          "Platform",
          "Simulation",
          "Adventure",
          "Action-Adventure",
          "Action",
          "Role-Playing",
          "Action",
          "Shooter",
          "Action",
          "Role-Playing",
          "Role-Playing",
          "Fighting",
          "Action-Adventure",
          "Role-Playing",
          "Role-Playing",
          "Fighting",
          "Action",
          "Role-Playing",
          "Action-Adventure",
          "Shooter",
          "Sports",
          "Action",
          "Platform",
          "Fighting",
          "Strategy",
          "Misc",
          "Simulation",
          "Fighting",
          "Music",
          "Misc",
          "Role-Playing",
          "Action",
          "Platform",
          "Racing",
          "Action",
          "Adventure",
          "Action",
          "Action",
          "Simulation",
          "Action",
          "Role-Playing",
          "Action",
          "Sports",
          "Shooter",
          "Shooter",
          "Action-Adventure",
          "Racing",
          "Action",
          "Fighting",
          "Adventure",
          "Fighting",
          "Action",
          "Sports",
          "Sports",
          "Platform",
          "Role-Playing",
          "Racing",
          "Misc",
          "Action",
          "Action",
          "Action-Adventure",
          "Sports",
          "MMO",
          "Role-Playing",
          "Shooter",
          "Sports",
          "Puzzle",
          "Role-Playing",
          "Action",
          "Shooter",
          "Action",
          "Action",
          "Music",
          "Action",
          "Action",
          "Adventure",
          "Racing",
          "Action",
          "Shooter",
          "Action",
          "Shooter",
          "Action",
          "Role-Playing",
          "Action",
          "Sports",
          "Action",
          "Misc",
          "Role-Playing",
          "Action",
          "Adventure",
          "Action",
          "Racing",
          "Simulation",
          "Music",
          "Action",
          "Adventure",
          "Action",
          "Racing",
          "Action",
          "Action",
          "Adventure",
          "Adventure",
          "Shooter",
          "MMO",
          "MMO",
          "Fighting",
          "Action",
          "Fighting",
          "Racing",
          "Racing",
          "Action-Adventure",
          "Platform",
          "Role-Playing",
          "Action",
          "Fighting",
          "Action",
          "Fighting",
          "Role-Playing",
          "Role-Playing",
          "Action-Adventure",
          "Visual Novel",
          "Adventure",
          "Action",
          "Role-Playing",
          "Role-Playing",
          "Racing",
          "Adventure",
          "Action",
          "Action",
          "Role-Playing",
          "Role-Playing",
          "Role-Playing",
          "Role-Playing",
          "Action",
          "Sports",
          "Platform",
          "Action",
          "Fighting",
          "Action-Adventure",
          "Music",
          "Racing",
          "Racing",
          "Racing",
          "Role-Playing",
          "Action",
          "Sports",
          "Music",
          "Racing",
          "Shooter",
          "Racing",
          "Sports",
          "Action",
          "Sports",
          "Visual Novel",
          "Role-Playing",
          "Adventure",
          "Action",
          "Sports",
          "Role-Playing",
          "Action",
          "Simulation",
          "Role-Playing",
          "Action",
          "Adventure",
          "Role-Playing",
          "Misc",
          "Adventure",
          "Role-Playing",
          "Strategy",
          "Adventure",
          "Action-Adventure",
          "Platform",
          "Adventure",
          "Racing",
          "Simulation",
          "Role-Playing",
          "Strategy",
          "Adventure",
          "Misc",
          "Action",
          "Shooter",
          "Shooter",
          "Action",
          "Platform",
          "Action",
          "Role-Playing",
          "Simulation",
          "Action",
          "Action",
          "Action",
          "MMO",
          "Action",
          "Puzzle",
          "Role-Playing",
          "Strategy",
          "Action",
          "Shooter",
          "Fighting",
          "Music",
          "Action-Adventure",
          "Action",
          "Role-Playing",
          "Action",
          "Music",
          "Strategy",
          "Strategy",
          "Sports",
          "Action",
          "Action",
          "Action",
          "Role-Playing",
          "Role-Playing",
          "Shooter",
          "Racing",
          "Role-Playing",
          "Action",
          "Action",
          "Adventure",
          "Platform",
          "Shooter",
          "Adventure",
          "Action",
          "Misc",
          "Adventure",
          "Simulation",
          "Role-Playing",
          "Action",
          "Racing",
          "Action",
          "Racing",
          "Role-Playing",
          "Action",
          "Role-Playing",
          "Action",
          "Role-Playing",
          "Action",
          "Misc",
          "Action",
          "Action",
          "Adventure",
          "Shooter",
          "Adventure",
          "Visual Novel",
          "Shooter",
          "Racing",
          "Action",
          "Simulation",
          "Action-Adventure",
          "Action",
          "Adventure",
          "Action",
          "Action",
          "Adventure",
          "Misc",
          "Action",
          "Adventure",
          "Action",
          "Role-Playing",
          "Sports",
          "Sports",
          "Misc",
          "Sports",
          "Misc",
          "Adventure",
          "Role-Playing",
          "Sports",
          "Racing",
          "Role-Playing",
          "Action",
          "Strategy",
          "Role-Playing",
          "Action",
          "Adventure",
          "Misc",
          "Adventure",
          "Action",
          "Sports",
          "Action",
          "Sports",
          "Role-Playing",
          "Adventure",
          "Action",
          "Strategy",
          "Role-Playing",
          "Racing",
          "Adventure",
          "Action",
          "Role-Playing",
          "Shooter",
          "Action-Adventure",
          "Platform",
          "Fighting",
          "Strategy",
          "Role-Playing",
          "Role-Playing",
          "Action",
          "Misc",
          "Role-Playing",
          "Simulation",
          "Strategy",
          "Adventure",
          "Action",
          "Action",
          "Racing",
          "Adventure",
          "Racing",
          "Simulation",
          "Shooter",
          "Adventure",
          "Action",
          "Action",
          "Shooter",
          "Shooter",
          "Party",
          "Shooter",
          "Role-Playing",
          "Adventure",
          "Sports",
          "Action",
          "Platform",
          "Puzzle",
          "Role-Playing",
          "Sports",
          "Simulation",
          "Simulation",
          "Action",
          "Action",
          "Action",
          "Adventure",
          "Fighting",
          "Action",
          "Action",
          "Action-Adventure",
          "Fighting",
          "Strategy",
          "Sports",
          "Shooter",
          "Action",
          "Music",
          "Platform",
          "Puzzle",
          "Adventure",
          "Strategy",
          "Role-Playing",
          "Sports",
          "Adventure",
          "Racing",
          "Shooter",
          "Puzzle",
          "Misc",
          "Action",
          "Action",
          "Platform",
          "Role-Playing",
          "Strategy",
          "Simulation",
          "Action",
          "Action",
          "Action",
          "Fighting",
          "Action",
          "Adventure",
          "Action",
          "Misc",
          "Fighting",
          "Racing",
          "Misc",
          "Sports",
          "Misc",
          "Puzzle",
          "Strategy",
          "Racing",
          "Action",
          "Action",
          "Music",
          "Adventure",
          "Adventure",
          "Platform",
          "Fighting",
          "Visual Novel",
          "Adventure",
          "Role-Playing",
          "Visual Novel",
          "Action",
          "Misc",
          "Role-Playing",
          "Shooter",
          "Action",
          "Sports",
          "Role-Playing",
          "Role-Playing",
          "Music",
          "Action-Adventure",
          "Shooter",
          "Racing",
          "Action-Adventure",
          "Action",
          "Music",
          "Action",
          "Shooter",
          "Role-Playing",
          "Puzzle",
          "Strategy",
          "Strategy",
          "Action",
          "Strategy",
          "Action",
          "Music",
          "Action",
          "Action",
          "Action",
          "Puzzle",
          "Misc",
          "Visual Novel",
          "Misc",
          "Role-Playing",
          "Fighting",
          "Simulation",
          "Misc",
          "Racing",
          "Visual Novel",
          "Fighting",
          "Shooter",
          "Shooter",
          "Action",
          "Action",
          "Role-Playing",
          "Action",
          "Adventure",
          "Role-Playing",
          "Adventure",
          "Strategy",
          "Misc",
          "Strategy",
          "Role-Playing",
          "Adventure",
          "Adventure",
          "Strategy",
          "Adventure",
          "Simulation",
          "Adventure",
          "Action",
          "Racing",
          "Shooter",
          "Visual Novel",
          "Racing",
          "Platform",
          "Strategy",
          "Action",
          "Action",
          "Adventure",
          "Adventure",
          "Strategy",
          "Action",
          "Action",
          "Role-Playing",
          "Platform",
          "Action",
          "Action",
          "Platform",
          "Sports",
          "Misc",
          "Action",
          "Adventure",
          "Adventure",
          "Action",
          "Adventure",
          "Sports",
          "Puzzle",
          "Action",
          "Action",
          "Action",
          "Adventure",
          "Platform",
          "Misc",
          "Action",
          "MMO",
          "Strategy",
          "Role-Playing",
          "Action",
          "Action",
          "Misc",
          "Adventure",
          "Action",
          "Action",
          "Action",
          "Misc",
          "Adventure",
          "Action-Adventure",
          "Misc",
          "Misc",
          "Misc",
          "Misc",
          "Action",
          "Strategy",
          "Platform",
          "Action",
          "Action",
          "Misc",
          "Misc",
          "Misc",
          "Misc",
          "Misc",
          "Misc",
          "Misc",
          "Misc",
          "Misc",
          "Action",
          "Role-Playing",
          "Sports",
          "Action",
          "Puzzle",
          "Action",
          "Action",
          "Adventure",
          "Action",
          "Adventure",
          "Sports",
          "Adventure",
          "Role-Playing",
          "Action",
          "Action",
          "Sports",
          "Role-Playing",
          "Role-Playing",
          "Action",
          "Action",
          "Role-Playing",
          "Shooter",
          "Role-Playing",
          "Simulation",
          "Role-Playing",
          "Misc",
          "Simulation",
          "Action",
          "Action",
          "Role-Playing",
          "Action-Adventure",
          "Action",
          "Platform",
          "Sports",
          "Platform",
          "Adventure",
          "Action",
          "Racing"
         ],
         "yaxis": "y"
        }
       ],
       "layout": {
        "bargap": 0.2,
        "barmode": "relative",
        "font": {
         "size": 16
        },
        "height": 1000,
        "legend": {
         "tracegroupgap": 0
        },
        "margin": {
         "l": 20,
         "pad": 20,
         "r": 20
        },
        "paper_bgcolor": "rgba(0,0,0,0)",
        "plot_bgcolor": "rgba(0,0,0,0)",
        "template": {
         "data": {
          "bar": [
           {
            "error_x": {
             "color": "rgb(36,36,36)"
            },
            "error_y": {
             "color": "rgb(36,36,36)"
            },
            "marker": {
             "line": {
              "color": "rgb(234,234,242)",
              "width": 0.5
             },
             "pattern": {
              "fillmode": "overlay",
              "size": 10,
              "solidity": 0.2
             }
            },
            "type": "bar"
           }
          ],
          "barpolar": [
           {
            "marker": {
             "line": {
              "color": "rgb(234,234,242)",
              "width": 0.5
             },
             "pattern": {
              "fillmode": "overlay",
              "size": 10,
              "solidity": 0.2
             }
            },
            "type": "barpolar"
           }
          ],
          "carpet": [
           {
            "aaxis": {
             "endlinecolor": "rgb(36,36,36)",
             "gridcolor": "white",
             "linecolor": "white",
             "minorgridcolor": "white",
             "startlinecolor": "rgb(36,36,36)"
            },
            "baxis": {
             "endlinecolor": "rgb(36,36,36)",
             "gridcolor": "white",
             "linecolor": "white",
             "minorgridcolor": "white",
             "startlinecolor": "rgb(36,36,36)"
            },
            "type": "carpet"
           }
          ],
          "choropleth": [
           {
            "colorbar": {
             "outlinewidth": 0,
             "tickcolor": "rgb(36,36,36)",
             "ticklen": 8,
             "ticks": "outside",
             "tickwidth": 2
            },
            "type": "choropleth"
           }
          ],
          "contour": [
           {
            "colorbar": {
             "outlinewidth": 0,
             "tickcolor": "rgb(36,36,36)",
             "ticklen": 8,
             "ticks": "outside",
             "tickwidth": 2
            },
            "colorscale": [
             [
              0,
              "rgb(2,4,25)"
             ],
             [
              0.06274509803921569,
              "rgb(24,15,41)"
             ],
             [
              0.12549019607843137,
              "rgb(47,23,57)"
             ],
             [
              0.18823529411764706,
              "rgb(71,28,72)"
             ],
             [
              0.25098039215686274,
              "rgb(97,30,82)"
             ],
             [
              0.3137254901960784,
              "rgb(123,30,89)"
             ],
             [
              0.3764705882352941,
              "rgb(150,27,91)"
             ],
             [
              0.4392156862745098,
              "rgb(177,22,88)"
             ],
             [
              0.5019607843137255,
              "rgb(203,26,79)"
             ],
             [
              0.5647058823529412,
              "rgb(223,47,67)"
             ],
             [
              0.6274509803921569,
              "rgb(236,76,61)"
             ],
             [
              0.6901960784313725,
              "rgb(242,107,73)"
             ],
             [
              0.7529411764705882,
              "rgb(244,135,95)"
             ],
             [
              0.8156862745098039,
              "rgb(245,162,122)"
             ],
             [
              0.8784313725490196,
              "rgb(246,188,153)"
             ],
             [
              0.9411764705882353,
              "rgb(247,212,187)"
             ],
             [
              1,
              "rgb(250,234,220)"
             ]
            ],
            "type": "contour"
           }
          ],
          "contourcarpet": [
           {
            "colorbar": {
             "outlinewidth": 0,
             "tickcolor": "rgb(36,36,36)",
             "ticklen": 8,
             "ticks": "outside",
             "tickwidth": 2
            },
            "type": "contourcarpet"
           }
          ],
          "heatmap": [
           {
            "colorbar": {
             "outlinewidth": 0,
             "tickcolor": "rgb(36,36,36)",
             "ticklen": 8,
             "ticks": "outside",
             "tickwidth": 2
            },
            "colorscale": [
             [
              0,
              "rgb(2,4,25)"
             ],
             [
              0.06274509803921569,
              "rgb(24,15,41)"
             ],
             [
              0.12549019607843137,
              "rgb(47,23,57)"
             ],
             [
              0.18823529411764706,
              "rgb(71,28,72)"
             ],
             [
              0.25098039215686274,
              "rgb(97,30,82)"
             ],
             [
              0.3137254901960784,
              "rgb(123,30,89)"
             ],
             [
              0.3764705882352941,
              "rgb(150,27,91)"
             ],
             [
              0.4392156862745098,
              "rgb(177,22,88)"
             ],
             [
              0.5019607843137255,
              "rgb(203,26,79)"
             ],
             [
              0.5647058823529412,
              "rgb(223,47,67)"
             ],
             [
              0.6274509803921569,
              "rgb(236,76,61)"
             ],
             [
              0.6901960784313725,
              "rgb(242,107,73)"
             ],
             [
              0.7529411764705882,
              "rgb(244,135,95)"
             ],
             [
              0.8156862745098039,
              "rgb(245,162,122)"
             ],
             [
              0.8784313725490196,
              "rgb(246,188,153)"
             ],
             [
              0.9411764705882353,
              "rgb(247,212,187)"
             ],
             [
              1,
              "rgb(250,234,220)"
             ]
            ],
            "type": "heatmap"
           }
          ],
          "heatmapgl": [
           {
            "colorbar": {
             "outlinewidth": 0,
             "tickcolor": "rgb(36,36,36)",
             "ticklen": 8,
             "ticks": "outside",
             "tickwidth": 2
            },
            "colorscale": [
             [
              0,
              "rgb(2,4,25)"
             ],
             [
              0.06274509803921569,
              "rgb(24,15,41)"
             ],
             [
              0.12549019607843137,
              "rgb(47,23,57)"
             ],
             [
              0.18823529411764706,
              "rgb(71,28,72)"
             ],
             [
              0.25098039215686274,
              "rgb(97,30,82)"
             ],
             [
              0.3137254901960784,
              "rgb(123,30,89)"
             ],
             [
              0.3764705882352941,
              "rgb(150,27,91)"
             ],
             [
              0.4392156862745098,
              "rgb(177,22,88)"
             ],
             [
              0.5019607843137255,
              "rgb(203,26,79)"
             ],
             [
              0.5647058823529412,
              "rgb(223,47,67)"
             ],
             [
              0.6274509803921569,
              "rgb(236,76,61)"
             ],
             [
              0.6901960784313725,
              "rgb(242,107,73)"
             ],
             [
              0.7529411764705882,
              "rgb(244,135,95)"
             ],
             [
              0.8156862745098039,
              "rgb(245,162,122)"
             ],
             [
              0.8784313725490196,
              "rgb(246,188,153)"
             ],
             [
              0.9411764705882353,
              "rgb(247,212,187)"
             ],
             [
              1,
              "rgb(250,234,220)"
             ]
            ],
            "type": "heatmapgl"
           }
          ],
          "histogram": [
           {
            "marker": {
             "pattern": {
              "fillmode": "overlay",
              "size": 10,
              "solidity": 0.2
             }
            },
            "type": "histogram"
           }
          ],
          "histogram2d": [
           {
            "colorbar": {
             "outlinewidth": 0,
             "tickcolor": "rgb(36,36,36)",
             "ticklen": 8,
             "ticks": "outside",
             "tickwidth": 2
            },
            "colorscale": [
             [
              0,
              "rgb(2,4,25)"
             ],
             [
              0.06274509803921569,
              "rgb(24,15,41)"
             ],
             [
              0.12549019607843137,
              "rgb(47,23,57)"
             ],
             [
              0.18823529411764706,
              "rgb(71,28,72)"
             ],
             [
              0.25098039215686274,
              "rgb(97,30,82)"
             ],
             [
              0.3137254901960784,
              "rgb(123,30,89)"
             ],
             [
              0.3764705882352941,
              "rgb(150,27,91)"
             ],
             [
              0.4392156862745098,
              "rgb(177,22,88)"
             ],
             [
              0.5019607843137255,
              "rgb(203,26,79)"
             ],
             [
              0.5647058823529412,
              "rgb(223,47,67)"
             ],
             [
              0.6274509803921569,
              "rgb(236,76,61)"
             ],
             [
              0.6901960784313725,
              "rgb(242,107,73)"
             ],
             [
              0.7529411764705882,
              "rgb(244,135,95)"
             ],
             [
              0.8156862745098039,
              "rgb(245,162,122)"
             ],
             [
              0.8784313725490196,
              "rgb(246,188,153)"
             ],
             [
              0.9411764705882353,
              "rgb(247,212,187)"
             ],
             [
              1,
              "rgb(250,234,220)"
             ]
            ],
            "type": "histogram2d"
           }
          ],
          "histogram2dcontour": [
           {
            "colorbar": {
             "outlinewidth": 0,
             "tickcolor": "rgb(36,36,36)",
             "ticklen": 8,
             "ticks": "outside",
             "tickwidth": 2
            },
            "colorscale": [
             [
              0,
              "rgb(2,4,25)"
             ],
             [
              0.06274509803921569,
              "rgb(24,15,41)"
             ],
             [
              0.12549019607843137,
              "rgb(47,23,57)"
             ],
             [
              0.18823529411764706,
              "rgb(71,28,72)"
             ],
             [
              0.25098039215686274,
              "rgb(97,30,82)"
             ],
             [
              0.3137254901960784,
              "rgb(123,30,89)"
             ],
             [
              0.3764705882352941,
              "rgb(150,27,91)"
             ],
             [
              0.4392156862745098,
              "rgb(177,22,88)"
             ],
             [
              0.5019607843137255,
              "rgb(203,26,79)"
             ],
             [
              0.5647058823529412,
              "rgb(223,47,67)"
             ],
             [
              0.6274509803921569,
              "rgb(236,76,61)"
             ],
             [
              0.6901960784313725,
              "rgb(242,107,73)"
             ],
             [
              0.7529411764705882,
              "rgb(244,135,95)"
             ],
             [
              0.8156862745098039,
              "rgb(245,162,122)"
             ],
             [
              0.8784313725490196,
              "rgb(246,188,153)"
             ],
             [
              0.9411764705882353,
              "rgb(247,212,187)"
             ],
             [
              1,
              "rgb(250,234,220)"
             ]
            ],
            "type": "histogram2dcontour"
           }
          ],
          "mesh3d": [
           {
            "colorbar": {
             "outlinewidth": 0,
             "tickcolor": "rgb(36,36,36)",
             "ticklen": 8,
             "ticks": "outside",
             "tickwidth": 2
            },
            "type": "mesh3d"
           }
          ],
          "parcoords": [
           {
            "line": {
             "colorbar": {
              "outlinewidth": 0,
              "tickcolor": "rgb(36,36,36)",
              "ticklen": 8,
              "ticks": "outside",
              "tickwidth": 2
             }
            },
            "type": "parcoords"
           }
          ],
          "pie": [
           {
            "automargin": true,
            "type": "pie"
           }
          ],
          "scatter": [
           {
            "fillpattern": {
             "fillmode": "overlay",
             "size": 10,
             "solidity": 0.2
            },
            "type": "scatter"
           }
          ],
          "scatter3d": [
           {
            "line": {
             "colorbar": {
              "outlinewidth": 0,
              "tickcolor": "rgb(36,36,36)",
              "ticklen": 8,
              "ticks": "outside",
              "tickwidth": 2
             }
            },
            "marker": {
             "colorbar": {
              "outlinewidth": 0,
              "tickcolor": "rgb(36,36,36)",
              "ticklen": 8,
              "ticks": "outside",
              "tickwidth": 2
             }
            },
            "type": "scatter3d"
           }
          ],
          "scattercarpet": [
           {
            "marker": {
             "colorbar": {
              "outlinewidth": 0,
              "tickcolor": "rgb(36,36,36)",
              "ticklen": 8,
              "ticks": "outside",
              "tickwidth": 2
             }
            },
            "type": "scattercarpet"
           }
          ],
          "scattergeo": [
           {
            "marker": {
             "colorbar": {
              "outlinewidth": 0,
              "tickcolor": "rgb(36,36,36)",
              "ticklen": 8,
              "ticks": "outside",
              "tickwidth": 2
             }
            },
            "type": "scattergeo"
           }
          ],
          "scattergl": [
           {
            "marker": {
             "colorbar": {
              "outlinewidth": 0,
              "tickcolor": "rgb(36,36,36)",
              "ticklen": 8,
              "ticks": "outside",
              "tickwidth": 2
             }
            },
            "type": "scattergl"
           }
          ],
          "scattermapbox": [
           {
            "marker": {
             "colorbar": {
              "outlinewidth": 0,
              "tickcolor": "rgb(36,36,36)",
              "ticklen": 8,
              "ticks": "outside",
              "tickwidth": 2
             }
            },
            "type": "scattermapbox"
           }
          ],
          "scatterpolar": [
           {
            "marker": {
             "colorbar": {
              "outlinewidth": 0,
              "tickcolor": "rgb(36,36,36)",
              "ticklen": 8,
              "ticks": "outside",
              "tickwidth": 2
             }
            },
            "type": "scatterpolar"
           }
          ],
          "scatterpolargl": [
           {
            "marker": {
             "colorbar": {
              "outlinewidth": 0,
              "tickcolor": "rgb(36,36,36)",
              "ticklen": 8,
              "ticks": "outside",
              "tickwidth": 2
             }
            },
            "type": "scatterpolargl"
           }
          ],
          "scatterternary": [
           {
            "marker": {
             "colorbar": {
              "outlinewidth": 0,
              "tickcolor": "rgb(36,36,36)",
              "ticklen": 8,
              "ticks": "outside",
              "tickwidth": 2
             }
            },
            "type": "scatterternary"
           }
          ],
          "surface": [
           {
            "colorbar": {
             "outlinewidth": 0,
             "tickcolor": "rgb(36,36,36)",
             "ticklen": 8,
             "ticks": "outside",
             "tickwidth": 2
            },
            "colorscale": [
             [
              0,
              "rgb(2,4,25)"
             ],
             [
              0.06274509803921569,
              "rgb(24,15,41)"
             ],
             [
              0.12549019607843137,
              "rgb(47,23,57)"
             ],
             [
              0.18823529411764706,
              "rgb(71,28,72)"
             ],
             [
              0.25098039215686274,
              "rgb(97,30,82)"
             ],
             [
              0.3137254901960784,
              "rgb(123,30,89)"
             ],
             [
              0.3764705882352941,
              "rgb(150,27,91)"
             ],
             [
              0.4392156862745098,
              "rgb(177,22,88)"
             ],
             [
              0.5019607843137255,
              "rgb(203,26,79)"
             ],
             [
              0.5647058823529412,
              "rgb(223,47,67)"
             ],
             [
              0.6274509803921569,
              "rgb(236,76,61)"
             ],
             [
              0.6901960784313725,
              "rgb(242,107,73)"
             ],
             [
              0.7529411764705882,
              "rgb(244,135,95)"
             ],
             [
              0.8156862745098039,
              "rgb(245,162,122)"
             ],
             [
              0.8784313725490196,
              "rgb(246,188,153)"
             ],
             [
              0.9411764705882353,
              "rgb(247,212,187)"
             ],
             [
              1,
              "rgb(250,234,220)"
             ]
            ],
            "type": "surface"
           }
          ],
          "table": [
           {
            "cells": {
             "fill": {
              "color": "rgb(231,231,240)"
             },
             "line": {
              "color": "white"
             }
            },
            "header": {
             "fill": {
              "color": "rgb(183,183,191)"
             },
             "line": {
              "color": "white"
             }
            },
            "type": "table"
           }
          ]
         },
         "layout": {
          "annotationdefaults": {
           "arrowcolor": "rgb(67,103,167)"
          },
          "autotypenumbers": "strict",
          "coloraxis": {
           "colorbar": {
            "outlinewidth": 0,
            "tickcolor": "rgb(36,36,36)",
            "ticklen": 8,
            "ticks": "outside",
            "tickwidth": 2
           }
          },
          "colorscale": {
           "sequential": [
            [
             0,
             "rgb(2,4,25)"
            ],
            [
             0.06274509803921569,
             "rgb(24,15,41)"
            ],
            [
             0.12549019607843137,
             "rgb(47,23,57)"
            ],
            [
             0.18823529411764706,
             "rgb(71,28,72)"
            ],
            [
             0.25098039215686274,
             "rgb(97,30,82)"
            ],
            [
             0.3137254901960784,
             "rgb(123,30,89)"
            ],
            [
             0.3764705882352941,
             "rgb(150,27,91)"
            ],
            [
             0.4392156862745098,
             "rgb(177,22,88)"
            ],
            [
             0.5019607843137255,
             "rgb(203,26,79)"
            ],
            [
             0.5647058823529412,
             "rgb(223,47,67)"
            ],
            [
             0.6274509803921569,
             "rgb(236,76,61)"
            ],
            [
             0.6901960784313725,
             "rgb(242,107,73)"
            ],
            [
             0.7529411764705882,
             "rgb(244,135,95)"
            ],
            [
             0.8156862745098039,
             "rgb(245,162,122)"
            ],
            [
             0.8784313725490196,
             "rgb(246,188,153)"
            ],
            [
             0.9411764705882353,
             "rgb(247,212,187)"
            ],
            [
             1,
             "rgb(250,234,220)"
            ]
           ],
           "sequentialminus": [
            [
             0,
             "rgb(2,4,25)"
            ],
            [
             0.06274509803921569,
             "rgb(24,15,41)"
            ],
            [
             0.12549019607843137,
             "rgb(47,23,57)"
            ],
            [
             0.18823529411764706,
             "rgb(71,28,72)"
            ],
            [
             0.25098039215686274,
             "rgb(97,30,82)"
            ],
            [
             0.3137254901960784,
             "rgb(123,30,89)"
            ],
            [
             0.3764705882352941,
             "rgb(150,27,91)"
            ],
            [
             0.4392156862745098,
             "rgb(177,22,88)"
            ],
            [
             0.5019607843137255,
             "rgb(203,26,79)"
            ],
            [
             0.5647058823529412,
             "rgb(223,47,67)"
            ],
            [
             0.6274509803921569,
             "rgb(236,76,61)"
            ],
            [
             0.6901960784313725,
             "rgb(242,107,73)"
            ],
            [
             0.7529411764705882,
             "rgb(244,135,95)"
            ],
            [
             0.8156862745098039,
             "rgb(245,162,122)"
            ],
            [
             0.8784313725490196,
             "rgb(246,188,153)"
            ],
            [
             0.9411764705882353,
             "rgb(247,212,187)"
            ],
            [
             1,
             "rgb(250,234,220)"
            ]
           ]
          },
          "colorway": [
           "rgb(76,114,176)",
           "rgb(221,132,82)",
           "rgb(85,168,104)",
           "rgb(196,78,82)",
           "rgb(129,114,179)",
           "rgb(147,120,96)",
           "rgb(218,139,195)",
           "rgb(140,140,140)",
           "rgb(204,185,116)",
           "rgb(100,181,205)"
          ],
          "font": {
           "color": "rgb(36,36,36)"
          },
          "geo": {
           "bgcolor": "white",
           "lakecolor": "white",
           "landcolor": "rgb(234,234,242)",
           "showlakes": true,
           "showland": true,
           "subunitcolor": "white"
          },
          "hoverlabel": {
           "align": "left"
          },
          "hovermode": "closest",
          "paper_bgcolor": "white",
          "plot_bgcolor": "rgb(234,234,242)",
          "polar": {
           "angularaxis": {
            "gridcolor": "white",
            "linecolor": "white",
            "showgrid": true,
            "ticks": ""
           },
           "bgcolor": "rgb(234,234,242)",
           "radialaxis": {
            "gridcolor": "white",
            "linecolor": "white",
            "showgrid": true,
            "ticks": ""
           }
          },
          "scene": {
           "xaxis": {
            "backgroundcolor": "rgb(234,234,242)",
            "gridcolor": "white",
            "gridwidth": 2,
            "linecolor": "white",
            "showbackground": true,
            "showgrid": true,
            "ticks": "",
            "zerolinecolor": "white"
           },
           "yaxis": {
            "backgroundcolor": "rgb(234,234,242)",
            "gridcolor": "white",
            "gridwidth": 2,
            "linecolor": "white",
            "showbackground": true,
            "showgrid": true,
            "ticks": "",
            "zerolinecolor": "white"
           },
           "zaxis": {
            "backgroundcolor": "rgb(234,234,242)",
            "gridcolor": "white",
            "gridwidth": 2,
            "linecolor": "white",
            "showbackground": true,
            "showgrid": true,
            "ticks": "",
            "zerolinecolor": "white"
           }
          },
          "shapedefaults": {
           "fillcolor": "rgb(67,103,167)",
           "line": {
            "width": 0
           },
           "opacity": 0.5
          },
          "ternary": {
           "aaxis": {
            "gridcolor": "white",
            "linecolor": "white",
            "showgrid": true,
            "ticks": ""
           },
           "baxis": {
            "gridcolor": "white",
            "linecolor": "white",
            "showgrid": true,
            "ticks": ""
           },
           "bgcolor": "rgb(234,234,242)",
           "caxis": {
            "gridcolor": "white",
            "linecolor": "white",
            "showgrid": true,
            "ticks": ""
           }
          },
          "xaxis": {
           "automargin": true,
           "gridcolor": "white",
           "linecolor": "white",
           "showgrid": true,
           "ticks": "",
           "title": {
            "standoff": 15
           },
           "zerolinecolor": "white"
          },
          "yaxis": {
           "automargin": true,
           "gridcolor": "white",
           "linecolor": "white",
           "showgrid": true,
           "ticks": "",
           "title": {
            "standoff": 15
           },
           "zerolinecolor": "white"
          }
         }
        },
        "title": {
         "text": "Quantity of each genres",
         "x": 0.01,
         "xanchor": "left",
         "y": 0.95,
         "yanchor": "top"
        },
        "width": 850,
        "xaxis": {
         "anchor": "y",
         "domain": [
          0,
          1
         ],
         "showgrid": false,
         "title": {
          "text": ""
         },
         "visible": false,
         "zeroline": false
        },
        "yaxis": {
         "anchor": "x",
         "automargin": true,
         "categoryorder": "total ascending",
         "domain": [
          0,
          1
         ],
         "showgrid": false,
         "title": {
          "text": ""
         },
         "visible": true,
         "zeroline": false
        }
       }
      }
     },
     "metadata": {},
     "output_type": "display_data"
    }
   ],
   "source": [
    "histogram(df_ps4, y='Genre', visibley=True, visiblex=False, title='Quantity of each genres') "
   ]
  },
  {
   "cell_type": "code",
   "execution_count": 6,
   "id": "37b47d81",
   "metadata": {
    "scrolled": true
   },
   "outputs": [
    {
     "data": {
      "application/vnd.plotly.v1+json": {
       "config": {
        "plotlyServerURL": "https://plot.ly"
       },
       "data": [
        {
         "alignmentgroup": "True",
         "bingroup": "y",
         "histfunc": "count",
         "hoverinfo": "skip",
         "legendgroup": "",
         "marker": {
          "color": "rgb(76,114,176)",
          "pattern": {
           "shape": ""
          }
         },
         "name": "",
         "offsetgroup": "",
         "orientation": "h",
         "showlegend": false,
         "textfont": {
          "size": 16
         },
         "texttemplate": "%{value}",
         "type": "histogram",
         "xaxis": "x",
         "y": [
          "Action",
          "Shooter",
          "Shooter",
          "Action-Adventure",
          "Misc",
          "Shooter",
          "Shooter",
          "Role-Playing",
          "Shooter",
          "Shooter",
          "Shooter",
          "Racing",
          "Sports",
          "Shooter",
          "Action",
          "Shooter",
          "Shooter",
          "Shooter",
          "Sports",
          "Sports",
          "Shooter",
          "Shooter",
          "Shooter",
          "Shooter",
          "Shooter",
          "Action",
          "Sports",
          "Sports",
          "Sports",
          "Racing",
          "Shooter",
          "Action",
          "Sports",
          "Shooter",
          "Shooter",
          "Sports",
          "Racing",
          "Sports",
          "Shooter",
          "Sports",
          "Role-Playing",
          "Action",
          "Fighting",
          "Sports",
          "Role-Playing",
          "Shooter",
          "Action-Adventure",
          "Action",
          "Shooter",
          "Sports",
          "Adventure",
          "Action",
          "Racing",
          "Action",
          "Action",
          "Racing",
          "Shooter",
          "Action",
          "Action",
          "Sports",
          "MMO",
          "Shooter",
          "Action",
          "Sports",
          "Shooter",
          "Shooter",
          "Action",
          "Action",
          "Action",
          "Role-Playing",
          "Action-Adventure",
          "Role-Playing",
          "Action-Adventure",
          "Action-Adventure",
          "Role-Playing",
          "Action-Adventure",
          "Sports",
          "Action",
          "Fighting",
          "Action",
          "Action",
          "Action",
          "Shooter",
          "Sports",
          "Action",
          "Music",
          "Role-Playing",
          "Action",
          "Misc",
          "Role-Playing",
          "Adventure",
          "Action",
          "Action",
          "Shooter",
          "Music",
          "Racing",
          "Simulation",
          "Racing",
          "Action-Adventure",
          "Action",
          "Racing",
          "Shooter",
          "Racing",
          "Shooter",
          "Misc",
          "Misc",
          "Shooter",
          "Shooter",
          "Sports",
          "Action-Adventure",
          "Action-Adventure",
          "Sports",
          "Sports",
          "Role-Playing",
          "Sports",
          "Sports",
          "Sports",
          "Fighting",
          "Action",
          "Sports",
          "Action-Adventure",
          "Music",
          "Fighting",
          "Adventure",
          "Strategy",
          "Sports",
          "Action-Adventure",
          "Action",
          "Action",
          "Simulation",
          "Sports",
          "Action",
          "Music",
          "Fighting",
          "Shooter",
          "Action",
          "Action-Adventure",
          "Action",
          "Shooter",
          "Platform",
          "Action",
          "Sports",
          "Music",
          "Shooter",
          "Action",
          "Sports",
          "Racing",
          "Shooter",
          "Action-Adventure",
          "Role-Playing",
          "Sports",
          "Action",
          "Platform",
          "Music",
          "Misc",
          "Fighting",
          "Fighting",
          "Fighting",
          "Music",
          "Action",
          "Racing",
          "Simulation",
          "Shooter",
          "Action",
          "Platform",
          "Role-Playing",
          "Shooter",
          "Platform",
          "Role-Playing",
          "Shooter",
          "Sports",
          "Action",
          "Action-Adventure",
          "Action-Adventure",
          "Adventure",
          "Platform",
          "Action",
          "Action-Adventure",
          "Racing",
          "Adventure",
          "Racing",
          "Shooter",
          "Misc",
          "Action",
          "Simulation",
          "Action",
          "Sports",
          "Shooter",
          "Racing",
          "Sports",
          "Racing",
          "Action",
          "Action-Adventure",
          "Role-Playing",
          "Role-Playing",
          "Platform",
          "Racing",
          "Music",
          "Shooter",
          "Action-Adventure",
          "Sports",
          "Shooter",
          "Action-Adventure",
          "Racing",
          "Action",
          "Action",
          "Fighting",
          "Music",
          "Platform",
          "Action",
          "Strategy",
          "Racing",
          "Sports",
          "Simulation",
          "Shooter",
          "Misc",
          "Adventure",
          "Fighting",
          "Action-Adventure",
          "Action",
          "Puzzle",
          "Platform",
          "Adventure",
          "Shooter",
          "Sports",
          "Shooter",
          "Action",
          "Action",
          "Simulation",
          "Action",
          "Action",
          "Sports",
          "Fighting",
          "Misc",
          "Action",
          "Action",
          "Fighting",
          "MMO",
          "Misc",
          "Music",
          "Action",
          "Sports",
          "Action",
          "Platform",
          "Action",
          "Action",
          "Role-Playing",
          "Adventure",
          "Racing",
          "Adventure",
          "Shooter",
          "Action",
          "Fighting",
          "Sports",
          "Sports",
          "Action",
          "Shooter",
          "Action",
          "Racing",
          "Action",
          "Action",
          "Fighting",
          "Racing",
          "Racing",
          "Racing",
          "Role-Playing",
          "Fighting",
          "Sports",
          "Action-Adventure",
          "Role-Playing",
          "Platform",
          "Simulation",
          "Action-Adventure",
          "Shooter",
          "Adventure",
          "Action",
          "Sports",
          "Racing",
          "Action",
          "Racing",
          "Misc",
          "Action",
          "Racing",
          "Simulation",
          "Music",
          "Shooter",
          "Racing",
          "Action-Adventure",
          "Adventure",
          "Action",
          "Fighting",
          "Action",
          "Sports",
          "Adventure",
          "Strategy",
          "Action",
          "Racing",
          "Action-Adventure",
          "Action",
          "Shooter",
          "Action",
          "Sports",
          "Strategy",
          "Action",
          "Misc",
          "Racing",
          "Role-Playing",
          "Racing",
          "Action",
          "Misc",
          "Adventure",
          "Sports",
          "Shooter",
          "Sports",
          "Action",
          "Simulation",
          "Action",
          "Sports",
          "Sports",
          "Misc",
          "Shooter",
          "Action",
          "Adventure",
          "Racing",
          "Adventure",
          "Adventure",
          "Adventure",
          "Sports",
          "Action",
          "Action",
          "Action",
          "Action-Adventure",
          "Role-Playing",
          "Racing",
          "Role-Playing",
          "Music",
          "Platform",
          "Adventure",
          "Racing",
          "Adventure",
          "Puzzle",
          "Racing",
          "Role-Playing",
          "Shooter",
          "Action",
          "Action",
          "Action-Adventure",
          "Role-Playing",
          "Adventure",
          "Action",
          "Role-Playing",
          "Role-Playing",
          "Adventure",
          "Action",
          "Sports",
          "Racing",
          "Shooter",
          "Shooter",
          "Action",
          "Action",
          "Action",
          "Racing",
          "Adventure",
          "Simulation",
          "Racing",
          "Shooter",
          "Action",
          "Platform",
          "Action",
          "Simulation",
          "Action",
          "Adventure",
          "Adventure",
          "Strategy",
          "Adventure",
          "Racing",
          "Sports",
          "Adventure",
          "Action",
          "Action",
          "Action",
          "Adventure",
          "Sports",
          "Racing",
          "Simulation",
          "Role-Playing",
          "Shooter",
          "Racing",
          "Action",
          "Role-Playing",
          "Action",
          "Visual Novel",
          "Simulation",
          "Adventure",
          "Action",
          "Action",
          "Strategy",
          "Strategy",
          "Shooter",
          "Action",
          "Puzzle",
          "Racing",
          "Simulation",
          "Strategy",
          "Racing",
          "Racing",
          "Strategy",
          "Adventure",
          "Simulation",
          "Sports",
          "Action",
          "Racing",
          "Sports",
          "Misc",
          "Action",
          "Action",
          "Strategy",
          "Simulation",
          "Role-Playing",
          "Shooter",
          "Racing",
          "Simulation",
          "Strategy",
          "Sports",
          "Platform",
          "Sports",
          "Platform",
          "Simulation",
          "Action",
          "Platform",
          "Misc",
          "Platform",
          "Adventure",
          "Platform",
          "Action",
          "Action",
          "Misc",
          "Strategy",
          "Role-Playing",
          "Misc",
          "Misc",
          "Strategy",
          "Misc",
          "Misc",
          "Role-Playing",
          "Adventure",
          "Role-Playing",
          "Adventure",
          "Puzzle",
          "Misc",
          "Adventure",
          "Misc",
          "Misc",
          "Shooter",
          "Misc",
          "Visual Novel",
          "Action",
          "Sports",
          "Action",
          "Action",
          "Puzzle",
          "Action",
          "Action",
          "Shooter",
          "Action",
          "Action",
          "Action-Adventure",
          "Adventure",
          "Action",
          "Sports",
          "Role-Playing",
          "Action",
          "Action",
          "Action",
          "Simulation",
          "Action",
          "Action-Adventure",
          "Action",
          "Sports",
          "Music",
          "Sports",
          "Role-Playing",
          "Platform",
          "Adventure"
         ],
         "yaxis": "y"
        }
       ],
       "layout": {
        "bargap": 0.2,
        "barmode": "relative",
        "font": {
         "size": 16
        },
        "height": 1000,
        "legend": {
         "tracegroupgap": 0
        },
        "margin": {
         "l": 20,
         "pad": 20,
         "r": 20
        },
        "paper_bgcolor": "rgba(0,0,0,0)",
        "plot_bgcolor": "rgba(0,0,0,0)",
        "template": {
         "data": {
          "bar": [
           {
            "error_x": {
             "color": "rgb(36,36,36)"
            },
            "error_y": {
             "color": "rgb(36,36,36)"
            },
            "marker": {
             "line": {
              "color": "rgb(234,234,242)",
              "width": 0.5
             },
             "pattern": {
              "fillmode": "overlay",
              "size": 10,
              "solidity": 0.2
             }
            },
            "type": "bar"
           }
          ],
          "barpolar": [
           {
            "marker": {
             "line": {
              "color": "rgb(234,234,242)",
              "width": 0.5
             },
             "pattern": {
              "fillmode": "overlay",
              "size": 10,
              "solidity": 0.2
             }
            },
            "type": "barpolar"
           }
          ],
          "carpet": [
           {
            "aaxis": {
             "endlinecolor": "rgb(36,36,36)",
             "gridcolor": "white",
             "linecolor": "white",
             "minorgridcolor": "white",
             "startlinecolor": "rgb(36,36,36)"
            },
            "baxis": {
             "endlinecolor": "rgb(36,36,36)",
             "gridcolor": "white",
             "linecolor": "white",
             "minorgridcolor": "white",
             "startlinecolor": "rgb(36,36,36)"
            },
            "type": "carpet"
           }
          ],
          "choropleth": [
           {
            "colorbar": {
             "outlinewidth": 0,
             "tickcolor": "rgb(36,36,36)",
             "ticklen": 8,
             "ticks": "outside",
             "tickwidth": 2
            },
            "type": "choropleth"
           }
          ],
          "contour": [
           {
            "colorbar": {
             "outlinewidth": 0,
             "tickcolor": "rgb(36,36,36)",
             "ticklen": 8,
             "ticks": "outside",
             "tickwidth": 2
            },
            "colorscale": [
             [
              0,
              "rgb(2,4,25)"
             ],
             [
              0.06274509803921569,
              "rgb(24,15,41)"
             ],
             [
              0.12549019607843137,
              "rgb(47,23,57)"
             ],
             [
              0.18823529411764706,
              "rgb(71,28,72)"
             ],
             [
              0.25098039215686274,
              "rgb(97,30,82)"
             ],
             [
              0.3137254901960784,
              "rgb(123,30,89)"
             ],
             [
              0.3764705882352941,
              "rgb(150,27,91)"
             ],
             [
              0.4392156862745098,
              "rgb(177,22,88)"
             ],
             [
              0.5019607843137255,
              "rgb(203,26,79)"
             ],
             [
              0.5647058823529412,
              "rgb(223,47,67)"
             ],
             [
              0.6274509803921569,
              "rgb(236,76,61)"
             ],
             [
              0.6901960784313725,
              "rgb(242,107,73)"
             ],
             [
              0.7529411764705882,
              "rgb(244,135,95)"
             ],
             [
              0.8156862745098039,
              "rgb(245,162,122)"
             ],
             [
              0.8784313725490196,
              "rgb(246,188,153)"
             ],
             [
              0.9411764705882353,
              "rgb(247,212,187)"
             ],
             [
              1,
              "rgb(250,234,220)"
             ]
            ],
            "type": "contour"
           }
          ],
          "contourcarpet": [
           {
            "colorbar": {
             "outlinewidth": 0,
             "tickcolor": "rgb(36,36,36)",
             "ticklen": 8,
             "ticks": "outside",
             "tickwidth": 2
            },
            "type": "contourcarpet"
           }
          ],
          "heatmap": [
           {
            "colorbar": {
             "outlinewidth": 0,
             "tickcolor": "rgb(36,36,36)",
             "ticklen": 8,
             "ticks": "outside",
             "tickwidth": 2
            },
            "colorscale": [
             [
              0,
              "rgb(2,4,25)"
             ],
             [
              0.06274509803921569,
              "rgb(24,15,41)"
             ],
             [
              0.12549019607843137,
              "rgb(47,23,57)"
             ],
             [
              0.18823529411764706,
              "rgb(71,28,72)"
             ],
             [
              0.25098039215686274,
              "rgb(97,30,82)"
             ],
             [
              0.3137254901960784,
              "rgb(123,30,89)"
             ],
             [
              0.3764705882352941,
              "rgb(150,27,91)"
             ],
             [
              0.4392156862745098,
              "rgb(177,22,88)"
             ],
             [
              0.5019607843137255,
              "rgb(203,26,79)"
             ],
             [
              0.5647058823529412,
              "rgb(223,47,67)"
             ],
             [
              0.6274509803921569,
              "rgb(236,76,61)"
             ],
             [
              0.6901960784313725,
              "rgb(242,107,73)"
             ],
             [
              0.7529411764705882,
              "rgb(244,135,95)"
             ],
             [
              0.8156862745098039,
              "rgb(245,162,122)"
             ],
             [
              0.8784313725490196,
              "rgb(246,188,153)"
             ],
             [
              0.9411764705882353,
              "rgb(247,212,187)"
             ],
             [
              1,
              "rgb(250,234,220)"
             ]
            ],
            "type": "heatmap"
           }
          ],
          "heatmapgl": [
           {
            "colorbar": {
             "outlinewidth": 0,
             "tickcolor": "rgb(36,36,36)",
             "ticklen": 8,
             "ticks": "outside",
             "tickwidth": 2
            },
            "colorscale": [
             [
              0,
              "rgb(2,4,25)"
             ],
             [
              0.06274509803921569,
              "rgb(24,15,41)"
             ],
             [
              0.12549019607843137,
              "rgb(47,23,57)"
             ],
             [
              0.18823529411764706,
              "rgb(71,28,72)"
             ],
             [
              0.25098039215686274,
              "rgb(97,30,82)"
             ],
             [
              0.3137254901960784,
              "rgb(123,30,89)"
             ],
             [
              0.3764705882352941,
              "rgb(150,27,91)"
             ],
             [
              0.4392156862745098,
              "rgb(177,22,88)"
             ],
             [
              0.5019607843137255,
              "rgb(203,26,79)"
             ],
             [
              0.5647058823529412,
              "rgb(223,47,67)"
             ],
             [
              0.6274509803921569,
              "rgb(236,76,61)"
             ],
             [
              0.6901960784313725,
              "rgb(242,107,73)"
             ],
             [
              0.7529411764705882,
              "rgb(244,135,95)"
             ],
             [
              0.8156862745098039,
              "rgb(245,162,122)"
             ],
             [
              0.8784313725490196,
              "rgb(246,188,153)"
             ],
             [
              0.9411764705882353,
              "rgb(247,212,187)"
             ],
             [
              1,
              "rgb(250,234,220)"
             ]
            ],
            "type": "heatmapgl"
           }
          ],
          "histogram": [
           {
            "marker": {
             "pattern": {
              "fillmode": "overlay",
              "size": 10,
              "solidity": 0.2
             }
            },
            "type": "histogram"
           }
          ],
          "histogram2d": [
           {
            "colorbar": {
             "outlinewidth": 0,
             "tickcolor": "rgb(36,36,36)",
             "ticklen": 8,
             "ticks": "outside",
             "tickwidth": 2
            },
            "colorscale": [
             [
              0,
              "rgb(2,4,25)"
             ],
             [
              0.06274509803921569,
              "rgb(24,15,41)"
             ],
             [
              0.12549019607843137,
              "rgb(47,23,57)"
             ],
             [
              0.18823529411764706,
              "rgb(71,28,72)"
             ],
             [
              0.25098039215686274,
              "rgb(97,30,82)"
             ],
             [
              0.3137254901960784,
              "rgb(123,30,89)"
             ],
             [
              0.3764705882352941,
              "rgb(150,27,91)"
             ],
             [
              0.4392156862745098,
              "rgb(177,22,88)"
             ],
             [
              0.5019607843137255,
              "rgb(203,26,79)"
             ],
             [
              0.5647058823529412,
              "rgb(223,47,67)"
             ],
             [
              0.6274509803921569,
              "rgb(236,76,61)"
             ],
             [
              0.6901960784313725,
              "rgb(242,107,73)"
             ],
             [
              0.7529411764705882,
              "rgb(244,135,95)"
             ],
             [
              0.8156862745098039,
              "rgb(245,162,122)"
             ],
             [
              0.8784313725490196,
              "rgb(246,188,153)"
             ],
             [
              0.9411764705882353,
              "rgb(247,212,187)"
             ],
             [
              1,
              "rgb(250,234,220)"
             ]
            ],
            "type": "histogram2d"
           }
          ],
          "histogram2dcontour": [
           {
            "colorbar": {
             "outlinewidth": 0,
             "tickcolor": "rgb(36,36,36)",
             "ticklen": 8,
             "ticks": "outside",
             "tickwidth": 2
            },
            "colorscale": [
             [
              0,
              "rgb(2,4,25)"
             ],
             [
              0.06274509803921569,
              "rgb(24,15,41)"
             ],
             [
              0.12549019607843137,
              "rgb(47,23,57)"
             ],
             [
              0.18823529411764706,
              "rgb(71,28,72)"
             ],
             [
              0.25098039215686274,
              "rgb(97,30,82)"
             ],
             [
              0.3137254901960784,
              "rgb(123,30,89)"
             ],
             [
              0.3764705882352941,
              "rgb(150,27,91)"
             ],
             [
              0.4392156862745098,
              "rgb(177,22,88)"
             ],
             [
              0.5019607843137255,
              "rgb(203,26,79)"
             ],
             [
              0.5647058823529412,
              "rgb(223,47,67)"
             ],
             [
              0.6274509803921569,
              "rgb(236,76,61)"
             ],
             [
              0.6901960784313725,
              "rgb(242,107,73)"
             ],
             [
              0.7529411764705882,
              "rgb(244,135,95)"
             ],
             [
              0.8156862745098039,
              "rgb(245,162,122)"
             ],
             [
              0.8784313725490196,
              "rgb(246,188,153)"
             ],
             [
              0.9411764705882353,
              "rgb(247,212,187)"
             ],
             [
              1,
              "rgb(250,234,220)"
             ]
            ],
            "type": "histogram2dcontour"
           }
          ],
          "mesh3d": [
           {
            "colorbar": {
             "outlinewidth": 0,
             "tickcolor": "rgb(36,36,36)",
             "ticklen": 8,
             "ticks": "outside",
             "tickwidth": 2
            },
            "type": "mesh3d"
           }
          ],
          "parcoords": [
           {
            "line": {
             "colorbar": {
              "outlinewidth": 0,
              "tickcolor": "rgb(36,36,36)",
              "ticklen": 8,
              "ticks": "outside",
              "tickwidth": 2
             }
            },
            "type": "parcoords"
           }
          ],
          "pie": [
           {
            "automargin": true,
            "type": "pie"
           }
          ],
          "scatter": [
           {
            "fillpattern": {
             "fillmode": "overlay",
             "size": 10,
             "solidity": 0.2
            },
            "type": "scatter"
           }
          ],
          "scatter3d": [
           {
            "line": {
             "colorbar": {
              "outlinewidth": 0,
              "tickcolor": "rgb(36,36,36)",
              "ticklen": 8,
              "ticks": "outside",
              "tickwidth": 2
             }
            },
            "marker": {
             "colorbar": {
              "outlinewidth": 0,
              "tickcolor": "rgb(36,36,36)",
              "ticklen": 8,
              "ticks": "outside",
              "tickwidth": 2
             }
            },
            "type": "scatter3d"
           }
          ],
          "scattercarpet": [
           {
            "marker": {
             "colorbar": {
              "outlinewidth": 0,
              "tickcolor": "rgb(36,36,36)",
              "ticklen": 8,
              "ticks": "outside",
              "tickwidth": 2
             }
            },
            "type": "scattercarpet"
           }
          ],
          "scattergeo": [
           {
            "marker": {
             "colorbar": {
              "outlinewidth": 0,
              "tickcolor": "rgb(36,36,36)",
              "ticklen": 8,
              "ticks": "outside",
              "tickwidth": 2
             }
            },
            "type": "scattergeo"
           }
          ],
          "scattergl": [
           {
            "marker": {
             "colorbar": {
              "outlinewidth": 0,
              "tickcolor": "rgb(36,36,36)",
              "ticklen": 8,
              "ticks": "outside",
              "tickwidth": 2
             }
            },
            "type": "scattergl"
           }
          ],
          "scattermapbox": [
           {
            "marker": {
             "colorbar": {
              "outlinewidth": 0,
              "tickcolor": "rgb(36,36,36)",
              "ticklen": 8,
              "ticks": "outside",
              "tickwidth": 2
             }
            },
            "type": "scattermapbox"
           }
          ],
          "scatterpolar": [
           {
            "marker": {
             "colorbar": {
              "outlinewidth": 0,
              "tickcolor": "rgb(36,36,36)",
              "ticklen": 8,
              "ticks": "outside",
              "tickwidth": 2
             }
            },
            "type": "scatterpolar"
           }
          ],
          "scatterpolargl": [
           {
            "marker": {
             "colorbar": {
              "outlinewidth": 0,
              "tickcolor": "rgb(36,36,36)",
              "ticklen": 8,
              "ticks": "outside",
              "tickwidth": 2
             }
            },
            "type": "scatterpolargl"
           }
          ],
          "scatterternary": [
           {
            "marker": {
             "colorbar": {
              "outlinewidth": 0,
              "tickcolor": "rgb(36,36,36)",
              "ticklen": 8,
              "ticks": "outside",
              "tickwidth": 2
             }
            },
            "type": "scatterternary"
           }
          ],
          "surface": [
           {
            "colorbar": {
             "outlinewidth": 0,
             "tickcolor": "rgb(36,36,36)",
             "ticklen": 8,
             "ticks": "outside",
             "tickwidth": 2
            },
            "colorscale": [
             [
              0,
              "rgb(2,4,25)"
             ],
             [
              0.06274509803921569,
              "rgb(24,15,41)"
             ],
             [
              0.12549019607843137,
              "rgb(47,23,57)"
             ],
             [
              0.18823529411764706,
              "rgb(71,28,72)"
             ],
             [
              0.25098039215686274,
              "rgb(97,30,82)"
             ],
             [
              0.3137254901960784,
              "rgb(123,30,89)"
             ],
             [
              0.3764705882352941,
              "rgb(150,27,91)"
             ],
             [
              0.4392156862745098,
              "rgb(177,22,88)"
             ],
             [
              0.5019607843137255,
              "rgb(203,26,79)"
             ],
             [
              0.5647058823529412,
              "rgb(223,47,67)"
             ],
             [
              0.6274509803921569,
              "rgb(236,76,61)"
             ],
             [
              0.6901960784313725,
              "rgb(242,107,73)"
             ],
             [
              0.7529411764705882,
              "rgb(244,135,95)"
             ],
             [
              0.8156862745098039,
              "rgb(245,162,122)"
             ],
             [
              0.8784313725490196,
              "rgb(246,188,153)"
             ],
             [
              0.9411764705882353,
              "rgb(247,212,187)"
             ],
             [
              1,
              "rgb(250,234,220)"
             ]
            ],
            "type": "surface"
           }
          ],
          "table": [
           {
            "cells": {
             "fill": {
              "color": "rgb(231,231,240)"
             },
             "line": {
              "color": "white"
             }
            },
            "header": {
             "fill": {
              "color": "rgb(183,183,191)"
             },
             "line": {
              "color": "white"
             }
            },
            "type": "table"
           }
          ]
         },
         "layout": {
          "annotationdefaults": {
           "arrowcolor": "rgb(67,103,167)"
          },
          "autotypenumbers": "strict",
          "coloraxis": {
           "colorbar": {
            "outlinewidth": 0,
            "tickcolor": "rgb(36,36,36)",
            "ticklen": 8,
            "ticks": "outside",
            "tickwidth": 2
           }
          },
          "colorscale": {
           "sequential": [
            [
             0,
             "rgb(2,4,25)"
            ],
            [
             0.06274509803921569,
             "rgb(24,15,41)"
            ],
            [
             0.12549019607843137,
             "rgb(47,23,57)"
            ],
            [
             0.18823529411764706,
             "rgb(71,28,72)"
            ],
            [
             0.25098039215686274,
             "rgb(97,30,82)"
            ],
            [
             0.3137254901960784,
             "rgb(123,30,89)"
            ],
            [
             0.3764705882352941,
             "rgb(150,27,91)"
            ],
            [
             0.4392156862745098,
             "rgb(177,22,88)"
            ],
            [
             0.5019607843137255,
             "rgb(203,26,79)"
            ],
            [
             0.5647058823529412,
             "rgb(223,47,67)"
            ],
            [
             0.6274509803921569,
             "rgb(236,76,61)"
            ],
            [
             0.6901960784313725,
             "rgb(242,107,73)"
            ],
            [
             0.7529411764705882,
             "rgb(244,135,95)"
            ],
            [
             0.8156862745098039,
             "rgb(245,162,122)"
            ],
            [
             0.8784313725490196,
             "rgb(246,188,153)"
            ],
            [
             0.9411764705882353,
             "rgb(247,212,187)"
            ],
            [
             1,
             "rgb(250,234,220)"
            ]
           ],
           "sequentialminus": [
            [
             0,
             "rgb(2,4,25)"
            ],
            [
             0.06274509803921569,
             "rgb(24,15,41)"
            ],
            [
             0.12549019607843137,
             "rgb(47,23,57)"
            ],
            [
             0.18823529411764706,
             "rgb(71,28,72)"
            ],
            [
             0.25098039215686274,
             "rgb(97,30,82)"
            ],
            [
             0.3137254901960784,
             "rgb(123,30,89)"
            ],
            [
             0.3764705882352941,
             "rgb(150,27,91)"
            ],
            [
             0.4392156862745098,
             "rgb(177,22,88)"
            ],
            [
             0.5019607843137255,
             "rgb(203,26,79)"
            ],
            [
             0.5647058823529412,
             "rgb(223,47,67)"
            ],
            [
             0.6274509803921569,
             "rgb(236,76,61)"
            ],
            [
             0.6901960784313725,
             "rgb(242,107,73)"
            ],
            [
             0.7529411764705882,
             "rgb(244,135,95)"
            ],
            [
             0.8156862745098039,
             "rgb(245,162,122)"
            ],
            [
             0.8784313725490196,
             "rgb(246,188,153)"
            ],
            [
             0.9411764705882353,
             "rgb(247,212,187)"
            ],
            [
             1,
             "rgb(250,234,220)"
            ]
           ]
          },
          "colorway": [
           "rgb(76,114,176)",
           "rgb(221,132,82)",
           "rgb(85,168,104)",
           "rgb(196,78,82)",
           "rgb(129,114,179)",
           "rgb(147,120,96)",
           "rgb(218,139,195)",
           "rgb(140,140,140)",
           "rgb(204,185,116)",
           "rgb(100,181,205)"
          ],
          "font": {
           "color": "rgb(36,36,36)"
          },
          "geo": {
           "bgcolor": "white",
           "lakecolor": "white",
           "landcolor": "rgb(234,234,242)",
           "showlakes": true,
           "showland": true,
           "subunitcolor": "white"
          },
          "hoverlabel": {
           "align": "left"
          },
          "hovermode": "closest",
          "paper_bgcolor": "white",
          "plot_bgcolor": "rgb(234,234,242)",
          "polar": {
           "angularaxis": {
            "gridcolor": "white",
            "linecolor": "white",
            "showgrid": true,
            "ticks": ""
           },
           "bgcolor": "rgb(234,234,242)",
           "radialaxis": {
            "gridcolor": "white",
            "linecolor": "white",
            "showgrid": true,
            "ticks": ""
           }
          },
          "scene": {
           "xaxis": {
            "backgroundcolor": "rgb(234,234,242)",
            "gridcolor": "white",
            "gridwidth": 2,
            "linecolor": "white",
            "showbackground": true,
            "showgrid": true,
            "ticks": "",
            "zerolinecolor": "white"
           },
           "yaxis": {
            "backgroundcolor": "rgb(234,234,242)",
            "gridcolor": "white",
            "gridwidth": 2,
            "linecolor": "white",
            "showbackground": true,
            "showgrid": true,
            "ticks": "",
            "zerolinecolor": "white"
           },
           "zaxis": {
            "backgroundcolor": "rgb(234,234,242)",
            "gridcolor": "white",
            "gridwidth": 2,
            "linecolor": "white",
            "showbackground": true,
            "showgrid": true,
            "ticks": "",
            "zerolinecolor": "white"
           }
          },
          "shapedefaults": {
           "fillcolor": "rgb(67,103,167)",
           "line": {
            "width": 0
           },
           "opacity": 0.5
          },
          "ternary": {
           "aaxis": {
            "gridcolor": "white",
            "linecolor": "white",
            "showgrid": true,
            "ticks": ""
           },
           "baxis": {
            "gridcolor": "white",
            "linecolor": "white",
            "showgrid": true,
            "ticks": ""
           },
           "bgcolor": "rgb(234,234,242)",
           "caxis": {
            "gridcolor": "white",
            "linecolor": "white",
            "showgrid": true,
            "ticks": ""
           }
          },
          "xaxis": {
           "automargin": true,
           "gridcolor": "white",
           "linecolor": "white",
           "showgrid": true,
           "ticks": "",
           "title": {
            "standoff": 15
           },
           "zerolinecolor": "white"
          },
          "yaxis": {
           "automargin": true,
           "gridcolor": "white",
           "linecolor": "white",
           "showgrid": true,
           "ticks": "",
           "title": {
            "standoff": 15
           },
           "zerolinecolor": "white"
          }
         }
        },
        "title": {
         "text": "Quantity of each genres",
         "x": 0.01,
         "xanchor": "left",
         "y": 0.95,
         "yanchor": "top"
        },
        "width": 850,
        "xaxis": {
         "anchor": "y",
         "domain": [
          0,
          1
         ],
         "showgrid": false,
         "title": {
          "text": ""
         },
         "visible": false,
         "zeroline": false
        },
        "yaxis": {
         "anchor": "x",
         "automargin": true,
         "categoryorder": "total ascending",
         "domain": [
          0,
          1
         ],
         "showgrid": false,
         "title": {
          "text": ""
         },
         "visible": true,
         "zeroline": false
        }
       }
      }
     },
     "metadata": {},
     "output_type": "display_data"
    }
   ],
   "source": [
    "histogram(df_xbox, y='Genre', visiblex=False, visibley=True, title='Quantity of each genres')"
   ]
  },
  {
   "cell_type": "code",
   "execution_count": 7,
   "id": "bc909477",
   "metadata": {},
   "outputs": [],
   "source": [
    "def count_genres(df):\n",
    "    return df.Genre.nunique()\n",
    "\n",
    "def count_games(df):\n",
    "    return df.Game.nunique()"
   ]
  },
  {
   "cell_type": "code",
   "execution_count": 8,
   "id": "209190f4",
   "metadata": {},
   "outputs": [
    {
     "name": "stdout",
     "output_type": "stream",
     "text": [
      "17\n",
      "794\n"
     ]
    }
   ],
   "source": [
    "print(count_genres(df_ps4))\n",
    "print(count_games(df_ps4))"
   ]
  },
  {
   "cell_type": "code",
   "execution_count": 9,
   "id": "fefc40dc",
   "metadata": {},
   "outputs": [
    {
     "name": "stdout",
     "output_type": "stream",
     "text": [
      "16\n",
      "484\n"
     ]
    }
   ],
   "source": [
    "print(count_genres(df_xbox))\n",
    "print(count_games(df_xbox))"
   ]
  },
  {
   "cell_type": "code",
   "execution_count": 10,
   "id": "c9890321",
   "metadata": {},
   "outputs": [],
   "source": [
    "zeroincomeYear = df_ps4.index[df_ps4['Year'] == 2019].tolist()\n",
    "df_ps4.drop(zeroincomeYear, axis=0, inplace=True)\n",
    "zeroincomeYear = df_ps4.index[df_ps4['Year'] == 2020].tolist()\n",
    "df_ps4.drop(zeroincomeYear, axis=0, inplace=True)"
   ]
  },
  {
   "cell_type": "code",
   "execution_count": 11,
   "id": "8c7bf497",
   "metadata": {},
   "outputs": [],
   "source": [
    "zeroincomeYear = df_xbox.index[df_xbox['Year'] == 2019].tolist()\n",
    "df_xbox.drop(zeroincomeYear, axis=0, inplace=True)\n",
    "zeroincomeYear = df_xbox.index[df_xbox['Year'] == 2020].tolist()\n",
    "df_xbox.drop(zeroincomeYear, axis=0, inplace=True)"
   ]
  },
  {
   "cell_type": "code",
   "execution_count": 12,
   "id": "cdd0de57",
   "metadata": {},
   "outputs": [
    {
     "data": {
      "text/html": [
       "<div>\n",
       "<style scoped>\n",
       "    .dataframe tbody tr th:only-of-type {\n",
       "        vertical-align: middle;\n",
       "    }\n",
       "\n",
       "    .dataframe tbody tr th {\n",
       "        vertical-align: top;\n",
       "    }\n",
       "\n",
       "    .dataframe thead th {\n",
       "        text-align: right;\n",
       "    }\n",
       "</style>\n",
       "<table border=\"1\" class=\"dataframe\">\n",
       "  <thead>\n",
       "    <tr style=\"text-align: right;\">\n",
       "      <th></th>\n",
       "      <th>Unnamed: 0</th>\n",
       "      <th>Game</th>\n",
       "      <th>Year</th>\n",
       "      <th>Genre</th>\n",
       "      <th>Publisher</th>\n",
       "      <th>North America</th>\n",
       "      <th>Europe</th>\n",
       "      <th>Japan</th>\n",
       "      <th>Rest of World</th>\n",
       "      <th>Global</th>\n",
       "      <th>Platform</th>\n",
       "    </tr>\n",
       "  </thead>\n",
       "  <tbody>\n",
       "    <tr>\n",
       "      <th>0</th>\n",
       "      <td>0</td>\n",
       "      <td>Grand Theft Auto V</td>\n",
       "      <td>2014</td>\n",
       "      <td>Action</td>\n",
       "      <td>Rockstar Games</td>\n",
       "      <td>4700000.0</td>\n",
       "      <td>3250000.0</td>\n",
       "      <td>10000.0</td>\n",
       "      <td>760000.0</td>\n",
       "      <td>8720000.0</td>\n",
       "      <td>Xbox One</td>\n",
       "    </tr>\n",
       "    <tr>\n",
       "      <th>1</th>\n",
       "      <td>1</td>\n",
       "      <td>Call of Duty: Black Ops 3</td>\n",
       "      <td>2015</td>\n",
       "      <td>Shooter</td>\n",
       "      <td>Activision</td>\n",
       "      <td>4630000.0</td>\n",
       "      <td>2040000.0</td>\n",
       "      <td>20000.0</td>\n",
       "      <td>680000.0</td>\n",
       "      <td>7370000.0</td>\n",
       "      <td>Xbox One</td>\n",
       "    </tr>\n",
       "    <tr>\n",
       "      <th>2</th>\n",
       "      <td>2</td>\n",
       "      <td>Call of Duty: WWII</td>\n",
       "      <td>2017</td>\n",
       "      <td>Shooter</td>\n",
       "      <td>Activision</td>\n",
       "      <td>3750000.0</td>\n",
       "      <td>1910000.0</td>\n",
       "      <td>0.0</td>\n",
       "      <td>570000.0</td>\n",
       "      <td>6230000.0</td>\n",
       "      <td>Xbox One</td>\n",
       "    </tr>\n",
       "    <tr>\n",
       "      <th>3</th>\n",
       "      <td>3</td>\n",
       "      <td>Red Dead Redemption 2</td>\n",
       "      <td>2018</td>\n",
       "      <td>Action-Adventure</td>\n",
       "      <td>Rockstar Games</td>\n",
       "      <td>3760000.0</td>\n",
       "      <td>1470000.0</td>\n",
       "      <td>0.0</td>\n",
       "      <td>540000.0</td>\n",
       "      <td>5770000.0</td>\n",
       "      <td>Xbox One</td>\n",
       "    </tr>\n",
       "    <tr>\n",
       "      <th>4</th>\n",
       "      <td>4</td>\n",
       "      <td>MineCraft</td>\n",
       "      <td>2014</td>\n",
       "      <td>Misc</td>\n",
       "      <td>Microsoft Studios</td>\n",
       "      <td>3230000.0</td>\n",
       "      <td>1710000.0</td>\n",
       "      <td>0.0</td>\n",
       "      <td>490000.0</td>\n",
       "      <td>5430000.0</td>\n",
       "      <td>Xbox One</td>\n",
       "    </tr>\n",
       "  </tbody>\n",
       "</table>\n",
       "</div>"
      ],
      "text/plain": [
       "   Unnamed: 0                       Game  Year             Genre  \\\n",
       "0           0         Grand Theft Auto V  2014            Action   \n",
       "1           1  Call of Duty: Black Ops 3  2015           Shooter   \n",
       "2           2         Call of Duty: WWII  2017           Shooter   \n",
       "3           3      Red Dead Redemption 2  2018  Action-Adventure   \n",
       "4           4                  MineCraft  2014              Misc   \n",
       "\n",
       "           Publisher  North America     Europe    Japan  Rest of World  \\\n",
       "0     Rockstar Games      4700000.0  3250000.0  10000.0       760000.0   \n",
       "1         Activision      4630000.0  2040000.0  20000.0       680000.0   \n",
       "2         Activision      3750000.0  1910000.0      0.0       570000.0   \n",
       "3     Rockstar Games      3760000.0  1470000.0      0.0       540000.0   \n",
       "4  Microsoft Studios      3230000.0  1710000.0      0.0       490000.0   \n",
       "\n",
       "      Global  Platform  \n",
       "0  8720000.0  Xbox One  \n",
       "1  7370000.0  Xbox One  \n",
       "2  6230000.0  Xbox One  \n",
       "3  5770000.0  Xbox One  \n",
       "4  5430000.0  Xbox One  "
      ]
     },
     "execution_count": 12,
     "metadata": {},
     "output_type": "execute_result"
    }
   ],
   "source": [
    "df_xbox['Platform'] = 'Xbox One'\n",
    "df_xbox.head()"
   ]
  },
  {
   "cell_type": "code",
   "execution_count": 13,
   "id": "3c9f52b8",
   "metadata": {},
   "outputs": [
    {
     "data": {
      "text/html": [
       "<div>\n",
       "<style scoped>\n",
       "    .dataframe tbody tr th:only-of-type {\n",
       "        vertical-align: middle;\n",
       "    }\n",
       "\n",
       "    .dataframe tbody tr th {\n",
       "        vertical-align: top;\n",
       "    }\n",
       "\n",
       "    .dataframe thead th {\n",
       "        text-align: right;\n",
       "    }\n",
       "</style>\n",
       "<table border=\"1\" class=\"dataframe\">\n",
       "  <thead>\n",
       "    <tr style=\"text-align: right;\">\n",
       "      <th></th>\n",
       "      <th>Unnamed: 0</th>\n",
       "      <th>Game</th>\n",
       "      <th>Year</th>\n",
       "      <th>Genre</th>\n",
       "      <th>Publisher</th>\n",
       "      <th>North America</th>\n",
       "      <th>Europe</th>\n",
       "      <th>Japan</th>\n",
       "      <th>Rest of World</th>\n",
       "      <th>Global</th>\n",
       "      <th>Platform</th>\n",
       "    </tr>\n",
       "  </thead>\n",
       "  <tbody>\n",
       "    <tr>\n",
       "      <th>0</th>\n",
       "      <td>0</td>\n",
       "      <td>Grand Theft Auto V</td>\n",
       "      <td>2014</td>\n",
       "      <td>Action</td>\n",
       "      <td>Rockstar Games</td>\n",
       "      <td>6060000.0</td>\n",
       "      <td>9710000.0</td>\n",
       "      <td>600000.0</td>\n",
       "      <td>3020000.0</td>\n",
       "      <td>19390000.0</td>\n",
       "      <td>PS4</td>\n",
       "    </tr>\n",
       "    <tr>\n",
       "      <th>1</th>\n",
       "      <td>1</td>\n",
       "      <td>Call of Duty: Black Ops 3</td>\n",
       "      <td>2015</td>\n",
       "      <td>Shooter</td>\n",
       "      <td>Activision</td>\n",
       "      <td>6180000.0</td>\n",
       "      <td>6050000.0</td>\n",
       "      <td>410000.0</td>\n",
       "      <td>2440000.0</td>\n",
       "      <td>15080000.0</td>\n",
       "      <td>PS4</td>\n",
       "    </tr>\n",
       "    <tr>\n",
       "      <th>2</th>\n",
       "      <td>2</td>\n",
       "      <td>Red Dead Redemption 2</td>\n",
       "      <td>2018</td>\n",
       "      <td>Action-Adventure</td>\n",
       "      <td>Rockstar Games</td>\n",
       "      <td>5260000.0</td>\n",
       "      <td>6210000.0</td>\n",
       "      <td>210000.0</td>\n",
       "      <td>2260000.0</td>\n",
       "      <td>13940000.0</td>\n",
       "      <td>PS4</td>\n",
       "    </tr>\n",
       "    <tr>\n",
       "      <th>3</th>\n",
       "      <td>3</td>\n",
       "      <td>Call of Duty: WWII</td>\n",
       "      <td>2017</td>\n",
       "      <td>Shooter</td>\n",
       "      <td>Activision</td>\n",
       "      <td>4670000.0</td>\n",
       "      <td>6210000.0</td>\n",
       "      <td>400000.0</td>\n",
       "      <td>2120000.0</td>\n",
       "      <td>13400000.0</td>\n",
       "      <td>PS4</td>\n",
       "    </tr>\n",
       "    <tr>\n",
       "      <th>4</th>\n",
       "      <td>4</td>\n",
       "      <td>FIFA 18</td>\n",
       "      <td>2017</td>\n",
       "      <td>Sports</td>\n",
       "      <td>EA Sports</td>\n",
       "      <td>1270000.0</td>\n",
       "      <td>8640000.0</td>\n",
       "      <td>150000.0</td>\n",
       "      <td>1730000.0</td>\n",
       "      <td>11790000.0</td>\n",
       "      <td>PS4</td>\n",
       "    </tr>\n",
       "  </tbody>\n",
       "</table>\n",
       "</div>"
      ],
      "text/plain": [
       "   Unnamed: 0                       Game  Year             Genre  \\\n",
       "0           0         Grand Theft Auto V  2014            Action   \n",
       "1           1  Call of Duty: Black Ops 3  2015           Shooter   \n",
       "2           2      Red Dead Redemption 2  2018  Action-Adventure   \n",
       "3           3         Call of Duty: WWII  2017           Shooter   \n",
       "4           4                    FIFA 18  2017            Sports   \n",
       "\n",
       "        Publisher  North America     Europe     Japan  Rest of World  \\\n",
       "0  Rockstar Games      6060000.0  9710000.0  600000.0      3020000.0   \n",
       "1      Activision      6180000.0  6050000.0  410000.0      2440000.0   \n",
       "2  Rockstar Games      5260000.0  6210000.0  210000.0      2260000.0   \n",
       "3      Activision      4670000.0  6210000.0  400000.0      2120000.0   \n",
       "4       EA Sports      1270000.0  8640000.0  150000.0      1730000.0   \n",
       "\n",
       "       Global Platform  \n",
       "0  19390000.0      PS4  \n",
       "1  15080000.0      PS4  \n",
       "2  13940000.0      PS4  \n",
       "3  13400000.0      PS4  \n",
       "4  11790000.0      PS4  "
      ]
     },
     "execution_count": 13,
     "metadata": {},
     "output_type": "execute_result"
    }
   ],
   "source": [
    "df_ps4['Platform'] = 'PS4'\n",
    "df_ps4.head()"
   ]
  },
  {
   "cell_type": "code",
   "execution_count": 14,
   "id": "8b635432",
   "metadata": {},
   "outputs": [],
   "source": [
    "def total_income(df):\n",
    "    return df['Global'].sum()"
   ]
  },
  {
   "cell_type": "code",
   "execution_count": 15,
   "id": "812172e0",
   "metadata": {},
   "outputs": [],
   "source": [
    "def num_games_launched_per_year(df):\n",
    "    return df.groupby(['Year'], as_index=False)['Game'].count() "
   ]
  },
  {
   "cell_type": "code",
   "execution_count": 16,
   "id": "26398e37",
   "metadata": {},
   "outputs": [],
   "source": [
    "def profit_per_year(df):\n",
    "    return df.groupby(['Year'], as_index=False)['Global'].sum()"
   ]
  },
  {
   "cell_type": "code",
   "execution_count": 17,
   "id": "53553aad",
   "metadata": {},
   "outputs": [
    {
     "data": {
      "text/html": [
       "<div>\n",
       "<style scoped>\n",
       "    .dataframe tbody tr th:only-of-type {\n",
       "        vertical-align: middle;\n",
       "    }\n",
       "\n",
       "    .dataframe tbody tr th {\n",
       "        vertical-align: top;\n",
       "    }\n",
       "\n",
       "    .dataframe thead th {\n",
       "        text-align: right;\n",
       "    }\n",
       "</style>\n",
       "<table border=\"1\" class=\"dataframe\">\n",
       "  <thead>\n",
       "    <tr style=\"text-align: right;\">\n",
       "      <th></th>\n",
       "      <th>Year</th>\n",
       "      <th>Global</th>\n",
       "    </tr>\n",
       "  </thead>\n",
       "  <tbody>\n",
       "    <tr>\n",
       "      <th>0</th>\n",
       "      <td>2013</td>\n",
       "      <td>28770000.0</td>\n",
       "    </tr>\n",
       "    <tr>\n",
       "      <th>1</th>\n",
       "      <td>2014</td>\n",
       "      <td>115790000.0</td>\n",
       "    </tr>\n",
       "    <tr>\n",
       "      <th>2</th>\n",
       "      <td>2015</td>\n",
       "      <td>133970000.0</td>\n",
       "    </tr>\n",
       "    <tr>\n",
       "      <th>3</th>\n",
       "      <td>2016</td>\n",
       "      <td>135740000.0</td>\n",
       "    </tr>\n",
       "    <tr>\n",
       "      <th>4</th>\n",
       "      <td>2017</td>\n",
       "      <td>130920000.0</td>\n",
       "    </tr>\n",
       "    <tr>\n",
       "      <th>5</th>\n",
       "      <td>2018</td>\n",
       "      <td>50170000.0</td>\n",
       "    </tr>\n",
       "  </tbody>\n",
       "</table>\n",
       "</div>"
      ],
      "text/plain": [
       "   Year       Global\n",
       "0  2013   28770000.0\n",
       "1  2014  115790000.0\n",
       "2  2015  133970000.0\n",
       "3  2016  135740000.0\n",
       "4  2017  130920000.0\n",
       "5  2018   50170000.0"
      ]
     },
     "execution_count": 17,
     "metadata": {},
     "output_type": "execute_result"
    }
   ],
   "source": [
    "profit_per_year(df_ps4)"
   ]
  },
  {
   "cell_type": "code",
   "execution_count": 18,
   "id": "4df470d1",
   "metadata": {},
   "outputs": [
    {
     "data": {
      "text/html": [
       "<div>\n",
       "<style scoped>\n",
       "    .dataframe tbody tr th:only-of-type {\n",
       "        vertical-align: middle;\n",
       "    }\n",
       "\n",
       "    .dataframe tbody tr th {\n",
       "        vertical-align: top;\n",
       "    }\n",
       "\n",
       "    .dataframe thead th {\n",
       "        text-align: right;\n",
       "    }\n",
       "</style>\n",
       "<table border=\"1\" class=\"dataframe\">\n",
       "  <thead>\n",
       "    <tr style=\"text-align: right;\">\n",
       "      <th></th>\n",
       "      <th>Year</th>\n",
       "      <th>Global</th>\n",
       "    </tr>\n",
       "  </thead>\n",
       "  <tbody>\n",
       "    <tr>\n",
       "      <th>0</th>\n",
       "      <td>2013</td>\n",
       "      <td>20000000.0</td>\n",
       "    </tr>\n",
       "    <tr>\n",
       "      <th>1</th>\n",
       "      <td>2014</td>\n",
       "      <td>62160000.0</td>\n",
       "    </tr>\n",
       "    <tr>\n",
       "      <th>2</th>\n",
       "      <td>2015</td>\n",
       "      <td>68650000.0</td>\n",
       "    </tr>\n",
       "    <tr>\n",
       "      <th>3</th>\n",
       "      <td>2016</td>\n",
       "      <td>57440000.0</td>\n",
       "    </tr>\n",
       "    <tr>\n",
       "      <th>4</th>\n",
       "      <td>2017</td>\n",
       "      <td>48390000.0</td>\n",
       "    </tr>\n",
       "    <tr>\n",
       "      <th>5</th>\n",
       "      <td>2018</td>\n",
       "      <td>12200000.0</td>\n",
       "    </tr>\n",
       "  </tbody>\n",
       "</table>\n",
       "</div>"
      ],
      "text/plain": [
       "   Year      Global\n",
       "0  2013  20000000.0\n",
       "1  2014  62160000.0\n",
       "2  2015  68650000.0\n",
       "3  2016  57440000.0\n",
       "4  2017  48390000.0\n",
       "5  2018  12200000.0"
      ]
     },
     "execution_count": 18,
     "metadata": {},
     "output_type": "execute_result"
    }
   ],
   "source": [
    "profit_per_year(df_xbox)"
   ]
  },
  {
   "cell_type": "code",
   "execution_count": 19,
   "id": "c26d23db",
   "metadata": {},
   "outputs": [
    {
     "data": {
      "text/html": [
       "<div>\n",
       "<style scoped>\n",
       "    .dataframe tbody tr th:only-of-type {\n",
       "        vertical-align: middle;\n",
       "    }\n",
       "\n",
       "    .dataframe tbody tr th {\n",
       "        vertical-align: top;\n",
       "    }\n",
       "\n",
       "    .dataframe thead th {\n",
       "        text-align: right;\n",
       "    }\n",
       "</style>\n",
       "<table border=\"1\" class=\"dataframe\">\n",
       "  <thead>\n",
       "    <tr style=\"text-align: right;\">\n",
       "      <th></th>\n",
       "      <th>Year</th>\n",
       "      <th>Game</th>\n",
       "    </tr>\n",
       "  </thead>\n",
       "  <tbody>\n",
       "    <tr>\n",
       "      <th>0</th>\n",
       "      <td>2013</td>\n",
       "      <td>20</td>\n",
       "    </tr>\n",
       "    <tr>\n",
       "      <th>1</th>\n",
       "      <td>2014</td>\n",
       "      <td>95</td>\n",
       "    </tr>\n",
       "    <tr>\n",
       "      <th>2</th>\n",
       "      <td>2015</td>\n",
       "      <td>169</td>\n",
       "    </tr>\n",
       "    <tr>\n",
       "      <th>3</th>\n",
       "      <td>2016</td>\n",
       "      <td>220</td>\n",
       "    </tr>\n",
       "    <tr>\n",
       "      <th>4</th>\n",
       "      <td>2017</td>\n",
       "      <td>253</td>\n",
       "    </tr>\n",
       "    <tr>\n",
       "      <th>5</th>\n",
       "      <td>2018</td>\n",
       "      <td>37</td>\n",
       "    </tr>\n",
       "  </tbody>\n",
       "</table>\n",
       "</div>"
      ],
      "text/plain": [
       "   Year  Game\n",
       "0  2013    20\n",
       "1  2014    95\n",
       "2  2015   169\n",
       "3  2016   220\n",
       "4  2017   253\n",
       "5  2018    37"
      ]
     },
     "execution_count": 19,
     "metadata": {},
     "output_type": "execute_result"
    }
   ],
   "source": [
    "num_games_launched_per_year(df_ps4)"
   ]
  },
  {
   "cell_type": "code",
   "execution_count": 20,
   "id": "876cba51",
   "metadata": {
    "scrolled": true
   },
   "outputs": [
    {
     "data": {
      "text/html": [
       "<div>\n",
       "<style scoped>\n",
       "    .dataframe tbody tr th:only-of-type {\n",
       "        vertical-align: middle;\n",
       "    }\n",
       "\n",
       "    .dataframe tbody tr th {\n",
       "        vertical-align: top;\n",
       "    }\n",
       "\n",
       "    .dataframe thead th {\n",
       "        text-align: right;\n",
       "    }\n",
       "</style>\n",
       "<table border=\"1\" class=\"dataframe\">\n",
       "  <thead>\n",
       "    <tr style=\"text-align: right;\">\n",
       "      <th></th>\n",
       "      <th>Year</th>\n",
       "      <th>Game</th>\n",
       "    </tr>\n",
       "  </thead>\n",
       "  <tbody>\n",
       "    <tr>\n",
       "      <th>0</th>\n",
       "      <td>2013</td>\n",
       "      <td>20</td>\n",
       "    </tr>\n",
       "    <tr>\n",
       "      <th>1</th>\n",
       "      <td>2014</td>\n",
       "      <td>76</td>\n",
       "    </tr>\n",
       "    <tr>\n",
       "      <th>2</th>\n",
       "      <td>2015</td>\n",
       "      <td>105</td>\n",
       "    </tr>\n",
       "    <tr>\n",
       "      <th>3</th>\n",
       "      <td>2016</td>\n",
       "      <td>120</td>\n",
       "    </tr>\n",
       "    <tr>\n",
       "      <th>4</th>\n",
       "      <td>2017</td>\n",
       "      <td>142</td>\n",
       "    </tr>\n",
       "    <tr>\n",
       "      <th>5</th>\n",
       "      <td>2018</td>\n",
       "      <td>21</td>\n",
       "    </tr>\n",
       "  </tbody>\n",
       "</table>\n",
       "</div>"
      ],
      "text/plain": [
       "   Year  Game\n",
       "0  2013    20\n",
       "1  2014    76\n",
       "2  2015   105\n",
       "3  2016   120\n",
       "4  2017   142\n",
       "5  2018    21"
      ]
     },
     "execution_count": 20,
     "metadata": {},
     "output_type": "execute_result"
    }
   ],
   "source": [
    "num_games_launched_per_year(df_xbox)"
   ]
  },
  {
   "cell_type": "code",
   "execution_count": 21,
   "id": "64d53451",
   "metadata": {},
   "outputs": [],
   "source": [
    "def line(df, x=None, y=None, title='', color=None, text=None, markers=False, hover=False, hovermode='closest'):\n",
    "    fig = px.line(\n",
    "        df,\n",
    "        x=x,\n",
    "        y=y,\n",
    "        color=color,\n",
    "        template='seaborn',\n",
    "        markers=markers,\n",
    "        title=title,\n",
    "        text=text,\n",
    "    )\n",
    "    \n",
    "    fig.update_layout(\n",
    "        paper_bgcolor='rgba(0,0,0,0)',\n",
    "        plot_bgcolor='rgba(0,0,0,0)',\n",
    "        font=dict(size=16),\n",
    "        legend=dict(title=None, yanchor='top', xanchor='left', x=0, y=1, font=dict(size=16)),\n",
    "        title=dict(yanchor='top', xanchor='left', x=0.12, y=0.95),\n",
    "        hovermode=hovermode\n",
    "    )\n",
    "    if not hover:\n",
    "        fig.update_traces(\n",
    "            textposition='top center',\n",
    "            texttemplate='<b>%{text:$,.3s}</b>',\n",
    "            line=dict(width=5),\n",
    "            hovertemplate=None,\n",
    "            hoverinfo='skip',\n",
    "            hoverlabel=dict(font_size=16),\n",
    "            marker=dict(size=15)\n",
    "        )\n",
    "    else:\n",
    "        fig.update_traces(\n",
    "            textposition='top center',\n",
    "            texttemplate='<b>%{text:$,.3s}</b>',\n",
    "            line=dict(width=5),\n",
    "            hoverlabel=dict(font_size=16),\n",
    "            marker=dict(size=15)\n",
    "        )\n",
    "    \n",
    "    fig.update_yaxes(\n",
    "        showgrid=False,\n",
    "        zeroline=False,\n",
    "        title='',\n",
    "        rangemode='tozero',\n",
    "        visible=False\n",
    "    )\n",
    "    \n",
    "    fig.update_xaxes(\n",
    "        showgrid=False,\n",
    "        zeroline=False,\n",
    "    )\n",
    "    \n",
    "    return fig"
   ]
  },
  {
   "cell_type": "code",
   "execution_count": 22,
   "id": "00d1eb67",
   "metadata": {},
   "outputs": [],
   "source": [
    "def total_games(df):\n",
    "    return df['Game'].sum()\n",
    "\n",
    "def concat_df(df1, df2):\n",
    "    df = pd.concat([df1, df2])\n",
    "    df.drop('Unnamed: 0', axis=1, inplace=True)\n",
    "    return df"
   ]
  },
  {
   "cell_type": "code",
   "execution_count": 23,
   "id": "38fd26e7",
   "metadata": {
    "scrolled": true
   },
   "outputs": [
    {
     "data": {
      "application/vnd.plotly.v1+json": {
       "config": {
        "plotlyServerURL": "https://plot.ly"
       },
       "data": [
        {
         "hoverinfo": "skip",
         "hoverlabel": {
          "font": {
           "size": 16
          }
         },
         "legendgroup": "PS4",
         "line": {
          "color": "rgb(76,114,176)",
          "dash": "solid",
          "width": 5
         },
         "marker": {
          "size": 15,
          "symbol": "circle"
         },
         "mode": "text+markers+lines",
         "name": "PS4",
         "orientation": "v",
         "showlegend": true,
         "text": [
          28770000,
          115790000,
          133970000,
          135740000,
          130920000,
          50170000
         ],
         "textposition": "top center",
         "texttemplate": "<b>%{text:$,.3s}</b>",
         "type": "scatter",
         "x": [
          2013,
          2014,
          2015,
          2016,
          2017,
          2018
         ],
         "xaxis": "x",
         "y": [
          28770000,
          115790000,
          133970000,
          135740000,
          130920000,
          50170000
         ],
         "yaxis": "y"
        },
        {
         "hoverinfo": "skip",
         "hoverlabel": {
          "font": {
           "size": 16
          }
         },
         "legendgroup": "Xbox One",
         "line": {
          "color": "rgb(221,132,82)",
          "dash": "solid",
          "width": 5
         },
         "marker": {
          "size": 15,
          "symbol": "circle"
         },
         "mode": "text+markers+lines",
         "name": "Xbox One",
         "orientation": "v",
         "showlegend": true,
         "text": [
          20000000,
          62160000,
          68650000,
          57440000,
          48390000,
          12200000
         ],
         "textposition": "top center",
         "texttemplate": "<b>%{text:$,.3s}</b>",
         "type": "scatter",
         "x": [
          2013,
          2014,
          2015,
          2016,
          2017,
          2018
         ],
         "xaxis": "x",
         "y": [
          20000000,
          62160000,
          68650000,
          57440000,
          48390000,
          12200000
         ],
         "yaxis": "y"
        }
       ],
       "layout": {
        "font": {
         "size": 16
        },
        "hovermode": "closest",
        "legend": {
         "font": {
          "size": 16
         },
         "title": {},
         "tracegroupgap": 0,
         "x": 0,
         "xanchor": "left",
         "y": 1,
         "yanchor": "top"
        },
        "paper_bgcolor": "rgba(0,0,0,0)",
        "plot_bgcolor": "rgba(0,0,0,0)",
        "template": {
         "data": {
          "bar": [
           {
            "error_x": {
             "color": "rgb(36,36,36)"
            },
            "error_y": {
             "color": "rgb(36,36,36)"
            },
            "marker": {
             "line": {
              "color": "rgb(234,234,242)",
              "width": 0.5
             },
             "pattern": {
              "fillmode": "overlay",
              "size": 10,
              "solidity": 0.2
             }
            },
            "type": "bar"
           }
          ],
          "barpolar": [
           {
            "marker": {
             "line": {
              "color": "rgb(234,234,242)",
              "width": 0.5
             },
             "pattern": {
              "fillmode": "overlay",
              "size": 10,
              "solidity": 0.2
             }
            },
            "type": "barpolar"
           }
          ],
          "carpet": [
           {
            "aaxis": {
             "endlinecolor": "rgb(36,36,36)",
             "gridcolor": "white",
             "linecolor": "white",
             "minorgridcolor": "white",
             "startlinecolor": "rgb(36,36,36)"
            },
            "baxis": {
             "endlinecolor": "rgb(36,36,36)",
             "gridcolor": "white",
             "linecolor": "white",
             "minorgridcolor": "white",
             "startlinecolor": "rgb(36,36,36)"
            },
            "type": "carpet"
           }
          ],
          "choropleth": [
           {
            "colorbar": {
             "outlinewidth": 0,
             "tickcolor": "rgb(36,36,36)",
             "ticklen": 8,
             "ticks": "outside",
             "tickwidth": 2
            },
            "type": "choropleth"
           }
          ],
          "contour": [
           {
            "colorbar": {
             "outlinewidth": 0,
             "tickcolor": "rgb(36,36,36)",
             "ticklen": 8,
             "ticks": "outside",
             "tickwidth": 2
            },
            "colorscale": [
             [
              0,
              "rgb(2,4,25)"
             ],
             [
              0.06274509803921569,
              "rgb(24,15,41)"
             ],
             [
              0.12549019607843137,
              "rgb(47,23,57)"
             ],
             [
              0.18823529411764706,
              "rgb(71,28,72)"
             ],
             [
              0.25098039215686274,
              "rgb(97,30,82)"
             ],
             [
              0.3137254901960784,
              "rgb(123,30,89)"
             ],
             [
              0.3764705882352941,
              "rgb(150,27,91)"
             ],
             [
              0.4392156862745098,
              "rgb(177,22,88)"
             ],
             [
              0.5019607843137255,
              "rgb(203,26,79)"
             ],
             [
              0.5647058823529412,
              "rgb(223,47,67)"
             ],
             [
              0.6274509803921569,
              "rgb(236,76,61)"
             ],
             [
              0.6901960784313725,
              "rgb(242,107,73)"
             ],
             [
              0.7529411764705882,
              "rgb(244,135,95)"
             ],
             [
              0.8156862745098039,
              "rgb(245,162,122)"
             ],
             [
              0.8784313725490196,
              "rgb(246,188,153)"
             ],
             [
              0.9411764705882353,
              "rgb(247,212,187)"
             ],
             [
              1,
              "rgb(250,234,220)"
             ]
            ],
            "type": "contour"
           }
          ],
          "contourcarpet": [
           {
            "colorbar": {
             "outlinewidth": 0,
             "tickcolor": "rgb(36,36,36)",
             "ticklen": 8,
             "ticks": "outside",
             "tickwidth": 2
            },
            "type": "contourcarpet"
           }
          ],
          "heatmap": [
           {
            "colorbar": {
             "outlinewidth": 0,
             "tickcolor": "rgb(36,36,36)",
             "ticklen": 8,
             "ticks": "outside",
             "tickwidth": 2
            },
            "colorscale": [
             [
              0,
              "rgb(2,4,25)"
             ],
             [
              0.06274509803921569,
              "rgb(24,15,41)"
             ],
             [
              0.12549019607843137,
              "rgb(47,23,57)"
             ],
             [
              0.18823529411764706,
              "rgb(71,28,72)"
             ],
             [
              0.25098039215686274,
              "rgb(97,30,82)"
             ],
             [
              0.3137254901960784,
              "rgb(123,30,89)"
             ],
             [
              0.3764705882352941,
              "rgb(150,27,91)"
             ],
             [
              0.4392156862745098,
              "rgb(177,22,88)"
             ],
             [
              0.5019607843137255,
              "rgb(203,26,79)"
             ],
             [
              0.5647058823529412,
              "rgb(223,47,67)"
             ],
             [
              0.6274509803921569,
              "rgb(236,76,61)"
             ],
             [
              0.6901960784313725,
              "rgb(242,107,73)"
             ],
             [
              0.7529411764705882,
              "rgb(244,135,95)"
             ],
             [
              0.8156862745098039,
              "rgb(245,162,122)"
             ],
             [
              0.8784313725490196,
              "rgb(246,188,153)"
             ],
             [
              0.9411764705882353,
              "rgb(247,212,187)"
             ],
             [
              1,
              "rgb(250,234,220)"
             ]
            ],
            "type": "heatmap"
           }
          ],
          "heatmapgl": [
           {
            "colorbar": {
             "outlinewidth": 0,
             "tickcolor": "rgb(36,36,36)",
             "ticklen": 8,
             "ticks": "outside",
             "tickwidth": 2
            },
            "colorscale": [
             [
              0,
              "rgb(2,4,25)"
             ],
             [
              0.06274509803921569,
              "rgb(24,15,41)"
             ],
             [
              0.12549019607843137,
              "rgb(47,23,57)"
             ],
             [
              0.18823529411764706,
              "rgb(71,28,72)"
             ],
             [
              0.25098039215686274,
              "rgb(97,30,82)"
             ],
             [
              0.3137254901960784,
              "rgb(123,30,89)"
             ],
             [
              0.3764705882352941,
              "rgb(150,27,91)"
             ],
             [
              0.4392156862745098,
              "rgb(177,22,88)"
             ],
             [
              0.5019607843137255,
              "rgb(203,26,79)"
             ],
             [
              0.5647058823529412,
              "rgb(223,47,67)"
             ],
             [
              0.6274509803921569,
              "rgb(236,76,61)"
             ],
             [
              0.6901960784313725,
              "rgb(242,107,73)"
             ],
             [
              0.7529411764705882,
              "rgb(244,135,95)"
             ],
             [
              0.8156862745098039,
              "rgb(245,162,122)"
             ],
             [
              0.8784313725490196,
              "rgb(246,188,153)"
             ],
             [
              0.9411764705882353,
              "rgb(247,212,187)"
             ],
             [
              1,
              "rgb(250,234,220)"
             ]
            ],
            "type": "heatmapgl"
           }
          ],
          "histogram": [
           {
            "marker": {
             "pattern": {
              "fillmode": "overlay",
              "size": 10,
              "solidity": 0.2
             }
            },
            "type": "histogram"
           }
          ],
          "histogram2d": [
           {
            "colorbar": {
             "outlinewidth": 0,
             "tickcolor": "rgb(36,36,36)",
             "ticklen": 8,
             "ticks": "outside",
             "tickwidth": 2
            },
            "colorscale": [
             [
              0,
              "rgb(2,4,25)"
             ],
             [
              0.06274509803921569,
              "rgb(24,15,41)"
             ],
             [
              0.12549019607843137,
              "rgb(47,23,57)"
             ],
             [
              0.18823529411764706,
              "rgb(71,28,72)"
             ],
             [
              0.25098039215686274,
              "rgb(97,30,82)"
             ],
             [
              0.3137254901960784,
              "rgb(123,30,89)"
             ],
             [
              0.3764705882352941,
              "rgb(150,27,91)"
             ],
             [
              0.4392156862745098,
              "rgb(177,22,88)"
             ],
             [
              0.5019607843137255,
              "rgb(203,26,79)"
             ],
             [
              0.5647058823529412,
              "rgb(223,47,67)"
             ],
             [
              0.6274509803921569,
              "rgb(236,76,61)"
             ],
             [
              0.6901960784313725,
              "rgb(242,107,73)"
             ],
             [
              0.7529411764705882,
              "rgb(244,135,95)"
             ],
             [
              0.8156862745098039,
              "rgb(245,162,122)"
             ],
             [
              0.8784313725490196,
              "rgb(246,188,153)"
             ],
             [
              0.9411764705882353,
              "rgb(247,212,187)"
             ],
             [
              1,
              "rgb(250,234,220)"
             ]
            ],
            "type": "histogram2d"
           }
          ],
          "histogram2dcontour": [
           {
            "colorbar": {
             "outlinewidth": 0,
             "tickcolor": "rgb(36,36,36)",
             "ticklen": 8,
             "ticks": "outside",
             "tickwidth": 2
            },
            "colorscale": [
             [
              0,
              "rgb(2,4,25)"
             ],
             [
              0.06274509803921569,
              "rgb(24,15,41)"
             ],
             [
              0.12549019607843137,
              "rgb(47,23,57)"
             ],
             [
              0.18823529411764706,
              "rgb(71,28,72)"
             ],
             [
              0.25098039215686274,
              "rgb(97,30,82)"
             ],
             [
              0.3137254901960784,
              "rgb(123,30,89)"
             ],
             [
              0.3764705882352941,
              "rgb(150,27,91)"
             ],
             [
              0.4392156862745098,
              "rgb(177,22,88)"
             ],
             [
              0.5019607843137255,
              "rgb(203,26,79)"
             ],
             [
              0.5647058823529412,
              "rgb(223,47,67)"
             ],
             [
              0.6274509803921569,
              "rgb(236,76,61)"
             ],
             [
              0.6901960784313725,
              "rgb(242,107,73)"
             ],
             [
              0.7529411764705882,
              "rgb(244,135,95)"
             ],
             [
              0.8156862745098039,
              "rgb(245,162,122)"
             ],
             [
              0.8784313725490196,
              "rgb(246,188,153)"
             ],
             [
              0.9411764705882353,
              "rgb(247,212,187)"
             ],
             [
              1,
              "rgb(250,234,220)"
             ]
            ],
            "type": "histogram2dcontour"
           }
          ],
          "mesh3d": [
           {
            "colorbar": {
             "outlinewidth": 0,
             "tickcolor": "rgb(36,36,36)",
             "ticklen": 8,
             "ticks": "outside",
             "tickwidth": 2
            },
            "type": "mesh3d"
           }
          ],
          "parcoords": [
           {
            "line": {
             "colorbar": {
              "outlinewidth": 0,
              "tickcolor": "rgb(36,36,36)",
              "ticklen": 8,
              "ticks": "outside",
              "tickwidth": 2
             }
            },
            "type": "parcoords"
           }
          ],
          "pie": [
           {
            "automargin": true,
            "type": "pie"
           }
          ],
          "scatter": [
           {
            "fillpattern": {
             "fillmode": "overlay",
             "size": 10,
             "solidity": 0.2
            },
            "type": "scatter"
           }
          ],
          "scatter3d": [
           {
            "line": {
             "colorbar": {
              "outlinewidth": 0,
              "tickcolor": "rgb(36,36,36)",
              "ticklen": 8,
              "ticks": "outside",
              "tickwidth": 2
             }
            },
            "marker": {
             "colorbar": {
              "outlinewidth": 0,
              "tickcolor": "rgb(36,36,36)",
              "ticklen": 8,
              "ticks": "outside",
              "tickwidth": 2
             }
            },
            "type": "scatter3d"
           }
          ],
          "scattercarpet": [
           {
            "marker": {
             "colorbar": {
              "outlinewidth": 0,
              "tickcolor": "rgb(36,36,36)",
              "ticklen": 8,
              "ticks": "outside",
              "tickwidth": 2
             }
            },
            "type": "scattercarpet"
           }
          ],
          "scattergeo": [
           {
            "marker": {
             "colorbar": {
              "outlinewidth": 0,
              "tickcolor": "rgb(36,36,36)",
              "ticklen": 8,
              "ticks": "outside",
              "tickwidth": 2
             }
            },
            "type": "scattergeo"
           }
          ],
          "scattergl": [
           {
            "marker": {
             "colorbar": {
              "outlinewidth": 0,
              "tickcolor": "rgb(36,36,36)",
              "ticklen": 8,
              "ticks": "outside",
              "tickwidth": 2
             }
            },
            "type": "scattergl"
           }
          ],
          "scattermapbox": [
           {
            "marker": {
             "colorbar": {
              "outlinewidth": 0,
              "tickcolor": "rgb(36,36,36)",
              "ticklen": 8,
              "ticks": "outside",
              "tickwidth": 2
             }
            },
            "type": "scattermapbox"
           }
          ],
          "scatterpolar": [
           {
            "marker": {
             "colorbar": {
              "outlinewidth": 0,
              "tickcolor": "rgb(36,36,36)",
              "ticklen": 8,
              "ticks": "outside",
              "tickwidth": 2
             }
            },
            "type": "scatterpolar"
           }
          ],
          "scatterpolargl": [
           {
            "marker": {
             "colorbar": {
              "outlinewidth": 0,
              "tickcolor": "rgb(36,36,36)",
              "ticklen": 8,
              "ticks": "outside",
              "tickwidth": 2
             }
            },
            "type": "scatterpolargl"
           }
          ],
          "scatterternary": [
           {
            "marker": {
             "colorbar": {
              "outlinewidth": 0,
              "tickcolor": "rgb(36,36,36)",
              "ticklen": 8,
              "ticks": "outside",
              "tickwidth": 2
             }
            },
            "type": "scatterternary"
           }
          ],
          "surface": [
           {
            "colorbar": {
             "outlinewidth": 0,
             "tickcolor": "rgb(36,36,36)",
             "ticklen": 8,
             "ticks": "outside",
             "tickwidth": 2
            },
            "colorscale": [
             [
              0,
              "rgb(2,4,25)"
             ],
             [
              0.06274509803921569,
              "rgb(24,15,41)"
             ],
             [
              0.12549019607843137,
              "rgb(47,23,57)"
             ],
             [
              0.18823529411764706,
              "rgb(71,28,72)"
             ],
             [
              0.25098039215686274,
              "rgb(97,30,82)"
             ],
             [
              0.3137254901960784,
              "rgb(123,30,89)"
             ],
             [
              0.3764705882352941,
              "rgb(150,27,91)"
             ],
             [
              0.4392156862745098,
              "rgb(177,22,88)"
             ],
             [
              0.5019607843137255,
              "rgb(203,26,79)"
             ],
             [
              0.5647058823529412,
              "rgb(223,47,67)"
             ],
             [
              0.6274509803921569,
              "rgb(236,76,61)"
             ],
             [
              0.6901960784313725,
              "rgb(242,107,73)"
             ],
             [
              0.7529411764705882,
              "rgb(244,135,95)"
             ],
             [
              0.8156862745098039,
              "rgb(245,162,122)"
             ],
             [
              0.8784313725490196,
              "rgb(246,188,153)"
             ],
             [
              0.9411764705882353,
              "rgb(247,212,187)"
             ],
             [
              1,
              "rgb(250,234,220)"
             ]
            ],
            "type": "surface"
           }
          ],
          "table": [
           {
            "cells": {
             "fill": {
              "color": "rgb(231,231,240)"
             },
             "line": {
              "color": "white"
             }
            },
            "header": {
             "fill": {
              "color": "rgb(183,183,191)"
             },
             "line": {
              "color": "white"
             }
            },
            "type": "table"
           }
          ]
         },
         "layout": {
          "annotationdefaults": {
           "arrowcolor": "rgb(67,103,167)"
          },
          "autotypenumbers": "strict",
          "coloraxis": {
           "colorbar": {
            "outlinewidth": 0,
            "tickcolor": "rgb(36,36,36)",
            "ticklen": 8,
            "ticks": "outside",
            "tickwidth": 2
           }
          },
          "colorscale": {
           "sequential": [
            [
             0,
             "rgb(2,4,25)"
            ],
            [
             0.06274509803921569,
             "rgb(24,15,41)"
            ],
            [
             0.12549019607843137,
             "rgb(47,23,57)"
            ],
            [
             0.18823529411764706,
             "rgb(71,28,72)"
            ],
            [
             0.25098039215686274,
             "rgb(97,30,82)"
            ],
            [
             0.3137254901960784,
             "rgb(123,30,89)"
            ],
            [
             0.3764705882352941,
             "rgb(150,27,91)"
            ],
            [
             0.4392156862745098,
             "rgb(177,22,88)"
            ],
            [
             0.5019607843137255,
             "rgb(203,26,79)"
            ],
            [
             0.5647058823529412,
             "rgb(223,47,67)"
            ],
            [
             0.6274509803921569,
             "rgb(236,76,61)"
            ],
            [
             0.6901960784313725,
             "rgb(242,107,73)"
            ],
            [
             0.7529411764705882,
             "rgb(244,135,95)"
            ],
            [
             0.8156862745098039,
             "rgb(245,162,122)"
            ],
            [
             0.8784313725490196,
             "rgb(246,188,153)"
            ],
            [
             0.9411764705882353,
             "rgb(247,212,187)"
            ],
            [
             1,
             "rgb(250,234,220)"
            ]
           ],
           "sequentialminus": [
            [
             0,
             "rgb(2,4,25)"
            ],
            [
             0.06274509803921569,
             "rgb(24,15,41)"
            ],
            [
             0.12549019607843137,
             "rgb(47,23,57)"
            ],
            [
             0.18823529411764706,
             "rgb(71,28,72)"
            ],
            [
             0.25098039215686274,
             "rgb(97,30,82)"
            ],
            [
             0.3137254901960784,
             "rgb(123,30,89)"
            ],
            [
             0.3764705882352941,
             "rgb(150,27,91)"
            ],
            [
             0.4392156862745098,
             "rgb(177,22,88)"
            ],
            [
             0.5019607843137255,
             "rgb(203,26,79)"
            ],
            [
             0.5647058823529412,
             "rgb(223,47,67)"
            ],
            [
             0.6274509803921569,
             "rgb(236,76,61)"
            ],
            [
             0.6901960784313725,
             "rgb(242,107,73)"
            ],
            [
             0.7529411764705882,
             "rgb(244,135,95)"
            ],
            [
             0.8156862745098039,
             "rgb(245,162,122)"
            ],
            [
             0.8784313725490196,
             "rgb(246,188,153)"
            ],
            [
             0.9411764705882353,
             "rgb(247,212,187)"
            ],
            [
             1,
             "rgb(250,234,220)"
            ]
           ]
          },
          "colorway": [
           "rgb(76,114,176)",
           "rgb(221,132,82)",
           "rgb(85,168,104)",
           "rgb(196,78,82)",
           "rgb(129,114,179)",
           "rgb(147,120,96)",
           "rgb(218,139,195)",
           "rgb(140,140,140)",
           "rgb(204,185,116)",
           "rgb(100,181,205)"
          ],
          "font": {
           "color": "rgb(36,36,36)"
          },
          "geo": {
           "bgcolor": "white",
           "lakecolor": "white",
           "landcolor": "rgb(234,234,242)",
           "showlakes": true,
           "showland": true,
           "subunitcolor": "white"
          },
          "hoverlabel": {
           "align": "left"
          },
          "hovermode": "closest",
          "paper_bgcolor": "white",
          "plot_bgcolor": "rgb(234,234,242)",
          "polar": {
           "angularaxis": {
            "gridcolor": "white",
            "linecolor": "white",
            "showgrid": true,
            "ticks": ""
           },
           "bgcolor": "rgb(234,234,242)",
           "radialaxis": {
            "gridcolor": "white",
            "linecolor": "white",
            "showgrid": true,
            "ticks": ""
           }
          },
          "scene": {
           "xaxis": {
            "backgroundcolor": "rgb(234,234,242)",
            "gridcolor": "white",
            "gridwidth": 2,
            "linecolor": "white",
            "showbackground": true,
            "showgrid": true,
            "ticks": "",
            "zerolinecolor": "white"
           },
           "yaxis": {
            "backgroundcolor": "rgb(234,234,242)",
            "gridcolor": "white",
            "gridwidth": 2,
            "linecolor": "white",
            "showbackground": true,
            "showgrid": true,
            "ticks": "",
            "zerolinecolor": "white"
           },
           "zaxis": {
            "backgroundcolor": "rgb(234,234,242)",
            "gridcolor": "white",
            "gridwidth": 2,
            "linecolor": "white",
            "showbackground": true,
            "showgrid": true,
            "ticks": "",
            "zerolinecolor": "white"
           }
          },
          "shapedefaults": {
           "fillcolor": "rgb(67,103,167)",
           "line": {
            "width": 0
           },
           "opacity": 0.5
          },
          "ternary": {
           "aaxis": {
            "gridcolor": "white",
            "linecolor": "white",
            "showgrid": true,
            "ticks": ""
           },
           "baxis": {
            "gridcolor": "white",
            "linecolor": "white",
            "showgrid": true,
            "ticks": ""
           },
           "bgcolor": "rgb(234,234,242)",
           "caxis": {
            "gridcolor": "white",
            "linecolor": "white",
            "showgrid": true,
            "ticks": ""
           }
          },
          "xaxis": {
           "automargin": true,
           "gridcolor": "white",
           "linecolor": "white",
           "showgrid": true,
           "ticks": "",
           "title": {
            "standoff": 15
           },
           "zerolinecolor": "white"
          },
          "yaxis": {
           "automargin": true,
           "gridcolor": "white",
           "linecolor": "white",
           "showgrid": true,
           "ticks": "",
           "title": {
            "standoff": 15
           },
           "zerolinecolor": "white"
          }
         }
        },
        "title": {
         "text": "Profit per Year",
         "x": 0.12,
         "xanchor": "left",
         "y": 0.95,
         "yanchor": "top"
        },
        "xaxis": {
         "anchor": "y",
         "domain": [
          0,
          1
         ],
         "showgrid": false,
         "title": {
          "text": "Year"
         },
         "zeroline": false
        },
        "yaxis": {
         "anchor": "x",
         "domain": [
          0,
          1
         ],
         "rangemode": "tozero",
         "showgrid": false,
         "title": {
          "text": ""
         },
         "visible": false,
         "zeroline": false
        }
       }
      }
     },
     "metadata": {},
     "output_type": "display_data"
    }
   ],
   "source": [
    "df = concat_df(df_xbox, df_ps4)\n",
    "\n",
    "line(df.groupby(['Year', 'Platform'], as_index=False)[['Global']].sum(), title='Profit per Year', color='Platform', x='Year', y='Global', markers=True, text='Global')"
   ]
  },
  {
   "cell_type": "code",
   "execution_count": 24,
   "id": "da2f53b0",
   "metadata": {},
   "outputs": [
    {
     "data": {
      "text/html": [
       "<div>\n",
       "<style scoped>\n",
       "    .dataframe tbody tr th:only-of-type {\n",
       "        vertical-align: middle;\n",
       "    }\n",
       "\n",
       "    .dataframe tbody tr th {\n",
       "        vertical-align: top;\n",
       "    }\n",
       "\n",
       "    .dataframe thead th {\n",
       "        text-align: right;\n",
       "    }\n",
       "</style>\n",
       "<table border=\"1\" class=\"dataframe\">\n",
       "  <thead>\n",
       "    <tr style=\"text-align: right;\">\n",
       "      <th></th>\n",
       "      <th>Year</th>\n",
       "      <th>Platform</th>\n",
       "      <th>Global</th>\n",
       "    </tr>\n",
       "  </thead>\n",
       "  <tbody>\n",
       "    <tr>\n",
       "      <th>0</th>\n",
       "      <td>2013</td>\n",
       "      <td>PS4</td>\n",
       "      <td>28770000.0</td>\n",
       "    </tr>\n",
       "    <tr>\n",
       "      <th>1</th>\n",
       "      <td>2013</td>\n",
       "      <td>Xbox One</td>\n",
       "      <td>20000000.0</td>\n",
       "    </tr>\n",
       "    <tr>\n",
       "      <th>2</th>\n",
       "      <td>2014</td>\n",
       "      <td>PS4</td>\n",
       "      <td>115790000.0</td>\n",
       "    </tr>\n",
       "    <tr>\n",
       "      <th>3</th>\n",
       "      <td>2014</td>\n",
       "      <td>Xbox One</td>\n",
       "      <td>62160000.0</td>\n",
       "    </tr>\n",
       "    <tr>\n",
       "      <th>4</th>\n",
       "      <td>2015</td>\n",
       "      <td>PS4</td>\n",
       "      <td>133970000.0</td>\n",
       "    </tr>\n",
       "    <tr>\n",
       "      <th>5</th>\n",
       "      <td>2015</td>\n",
       "      <td>Xbox One</td>\n",
       "      <td>68650000.0</td>\n",
       "    </tr>\n",
       "    <tr>\n",
       "      <th>6</th>\n",
       "      <td>2016</td>\n",
       "      <td>PS4</td>\n",
       "      <td>135740000.0</td>\n",
       "    </tr>\n",
       "    <tr>\n",
       "      <th>7</th>\n",
       "      <td>2016</td>\n",
       "      <td>Xbox One</td>\n",
       "      <td>57440000.0</td>\n",
       "    </tr>\n",
       "    <tr>\n",
       "      <th>8</th>\n",
       "      <td>2017</td>\n",
       "      <td>PS4</td>\n",
       "      <td>130920000.0</td>\n",
       "    </tr>\n",
       "    <tr>\n",
       "      <th>9</th>\n",
       "      <td>2017</td>\n",
       "      <td>Xbox One</td>\n",
       "      <td>48390000.0</td>\n",
       "    </tr>\n",
       "    <tr>\n",
       "      <th>10</th>\n",
       "      <td>2018</td>\n",
       "      <td>PS4</td>\n",
       "      <td>50170000.0</td>\n",
       "    </tr>\n",
       "    <tr>\n",
       "      <th>11</th>\n",
       "      <td>2018</td>\n",
       "      <td>Xbox One</td>\n",
       "      <td>12200000.0</td>\n",
       "    </tr>\n",
       "  </tbody>\n",
       "</table>\n",
       "</div>"
      ],
      "text/plain": [
       "    Year  Platform       Global\n",
       "0   2013       PS4   28770000.0\n",
       "1   2013  Xbox One   20000000.0\n",
       "2   2014       PS4  115790000.0\n",
       "3   2014  Xbox One   62160000.0\n",
       "4   2015       PS4  133970000.0\n",
       "5   2015  Xbox One   68650000.0\n",
       "6   2016       PS4  135740000.0\n",
       "7   2016  Xbox One   57440000.0\n",
       "8   2017       PS4  130920000.0\n",
       "9   2017  Xbox One   48390000.0\n",
       "10  2018       PS4   50170000.0\n",
       "11  2018  Xbox One   12200000.0"
      ]
     },
     "execution_count": 24,
     "metadata": {},
     "output_type": "execute_result"
    }
   ],
   "source": [
    "df.groupby(['Year', 'Platform'], as_index=False)['Global'].sum()"
   ]
  },
  {
   "cell_type": "code",
   "execution_count": 25,
   "id": "5e51cc94",
   "metadata": {},
   "outputs": [
    {
     "data": {
      "text/html": [
       "<div>\n",
       "<style scoped>\n",
       "    .dataframe tbody tr th:only-of-type {\n",
       "        vertical-align: middle;\n",
       "    }\n",
       "\n",
       "    .dataframe tbody tr th {\n",
       "        vertical-align: top;\n",
       "    }\n",
       "\n",
       "    .dataframe thead th {\n",
       "        text-align: right;\n",
       "    }\n",
       "</style>\n",
       "<table border=\"1\" class=\"dataframe\">\n",
       "  <thead>\n",
       "    <tr style=\"text-align: right;\">\n",
       "      <th></th>\n",
       "      <th>Year</th>\n",
       "      <th>Platform</th>\n",
       "      <th>North America</th>\n",
       "      <th>Rest of World</th>\n",
       "    </tr>\n",
       "  </thead>\n",
       "  <tbody>\n",
       "    <tr>\n",
       "      <th>0</th>\n",
       "      <td>2013</td>\n",
       "      <td>PS4</td>\n",
       "      <td>10350000.0</td>\n",
       "      <td>4570000.0</td>\n",
       "    </tr>\n",
       "    <tr>\n",
       "      <th>1</th>\n",
       "      <td>2013</td>\n",
       "      <td>Xbox One</td>\n",
       "      <td>12140000.0</td>\n",
       "      <td>1810000.0</td>\n",
       "    </tr>\n",
       "    <tr>\n",
       "      <th>2</th>\n",
       "      <td>2014</td>\n",
       "      <td>PS4</td>\n",
       "      <td>39800000.0</td>\n",
       "      <td>18290000.0</td>\n",
       "    </tr>\n",
       "    <tr>\n",
       "      <th>3</th>\n",
       "      <td>2014</td>\n",
       "      <td>Xbox One</td>\n",
       "      <td>35920000.0</td>\n",
       "      <td>5510000.0</td>\n",
       "    </tr>\n",
       "    <tr>\n",
       "      <th>4</th>\n",
       "      <td>2015</td>\n",
       "      <td>PS4</td>\n",
       "      <td>49600000.0</td>\n",
       "      <td>20880000.0</td>\n",
       "    </tr>\n",
       "    <tr>\n",
       "      <th>5</th>\n",
       "      <td>2015</td>\n",
       "      <td>Xbox One</td>\n",
       "      <td>42160000.0</td>\n",
       "      <td>6290000.0</td>\n",
       "    </tr>\n",
       "    <tr>\n",
       "      <th>6</th>\n",
       "      <td>2016</td>\n",
       "      <td>PS4</td>\n",
       "      <td>47400000.0</td>\n",
       "      <td>20710000.0</td>\n",
       "    </tr>\n",
       "    <tr>\n",
       "      <th>7</th>\n",
       "      <td>2016</td>\n",
       "      <td>Xbox One</td>\n",
       "      <td>34190000.0</td>\n",
       "      <td>5270000.0</td>\n",
       "    </tr>\n",
       "    <tr>\n",
       "      <th>8</th>\n",
       "      <td>2017</td>\n",
       "      <td>PS4</td>\n",
       "      <td>44770000.0</td>\n",
       "      <td>19890000.0</td>\n",
       "    </tr>\n",
       "    <tr>\n",
       "      <th>9</th>\n",
       "      <td>2017</td>\n",
       "      <td>Xbox One</td>\n",
       "      <td>30060000.0</td>\n",
       "      <td>4460000.0</td>\n",
       "    </tr>\n",
       "    <tr>\n",
       "      <th>10</th>\n",
       "      <td>2018</td>\n",
       "      <td>PS4</td>\n",
       "      <td>19650000.0</td>\n",
       "      <td>7690000.0</td>\n",
       "    </tr>\n",
       "    <tr>\n",
       "      <th>11</th>\n",
       "      <td>2018</td>\n",
       "      <td>Xbox One</td>\n",
       "      <td>8210000.0</td>\n",
       "      <td>1150000.0</td>\n",
       "    </tr>\n",
       "  </tbody>\n",
       "</table>\n",
       "</div>"
      ],
      "text/plain": [
       "    Year  Platform  North America  Rest of World\n",
       "0   2013       PS4     10350000.0      4570000.0\n",
       "1   2013  Xbox One     12140000.0      1810000.0\n",
       "2   2014       PS4     39800000.0     18290000.0\n",
       "3   2014  Xbox One     35920000.0      5510000.0\n",
       "4   2015       PS4     49600000.0     20880000.0\n",
       "5   2015  Xbox One     42160000.0      6290000.0\n",
       "6   2016       PS4     47400000.0     20710000.0\n",
       "7   2016  Xbox One     34190000.0      5270000.0\n",
       "8   2017       PS4     44770000.0     19890000.0\n",
       "9   2017  Xbox One     30060000.0      4460000.0\n",
       "10  2018       PS4     19650000.0      7690000.0\n",
       "11  2018  Xbox One      8210000.0      1150000.0"
      ]
     },
     "execution_count": 25,
     "metadata": {},
     "output_type": "execute_result"
    }
   ],
   "source": [
    "df.groupby(['Year', 'Platform'], as_index=False)[['North America', 'Rest of World']].sum()"
   ]
  },
  {
   "cell_type": "code",
   "execution_count": 26,
   "id": "063ae64e",
   "metadata": {},
   "outputs": [
    {
     "data": {
      "text/html": [
       "<div>\n",
       "<style scoped>\n",
       "    .dataframe tbody tr th:only-of-type {\n",
       "        vertical-align: middle;\n",
       "    }\n",
       "\n",
       "    .dataframe tbody tr th {\n",
       "        vertical-align: top;\n",
       "    }\n",
       "\n",
       "    .dataframe thead th {\n",
       "        text-align: right;\n",
       "    }\n",
       "</style>\n",
       "<table border=\"1\" class=\"dataframe\">\n",
       "  <thead>\n",
       "    <tr style=\"text-align: right;\">\n",
       "      <th></th>\n",
       "      <th>Year</th>\n",
       "      <th>North America</th>\n",
       "      <th>Europe</th>\n",
       "      <th>Japan</th>\n",
       "      <th>Rest of World</th>\n",
       "    </tr>\n",
       "  </thead>\n",
       "  <tbody>\n",
       "    <tr>\n",
       "      <th>0</th>\n",
       "      <td>2013</td>\n",
       "      <td>12140000.0</td>\n",
       "      <td>6030000.0</td>\n",
       "      <td>20000.0</td>\n",
       "      <td>1810000.0</td>\n",
       "    </tr>\n",
       "    <tr>\n",
       "      <th>1</th>\n",
       "      <td>2014</td>\n",
       "      <td>35920000.0</td>\n",
       "      <td>20560000.0</td>\n",
       "      <td>170000.0</td>\n",
       "      <td>5510000.0</td>\n",
       "    </tr>\n",
       "    <tr>\n",
       "      <th>2</th>\n",
       "      <td>2015</td>\n",
       "      <td>42160000.0</td>\n",
       "      <td>19970000.0</td>\n",
       "      <td>230000.0</td>\n",
       "      <td>6290000.0</td>\n",
       "    </tr>\n",
       "    <tr>\n",
       "      <th>3</th>\n",
       "      <td>2016</td>\n",
       "      <td>34190000.0</td>\n",
       "      <td>17900000.0</td>\n",
       "      <td>80000.0</td>\n",
       "      <td>5270000.0</td>\n",
       "    </tr>\n",
       "    <tr>\n",
       "      <th>4</th>\n",
       "      <td>2017</td>\n",
       "      <td>30060000.0</td>\n",
       "      <td>13860000.0</td>\n",
       "      <td>10000.0</td>\n",
       "      <td>4460000.0</td>\n",
       "    </tr>\n",
       "    <tr>\n",
       "      <th>5</th>\n",
       "      <td>2018</td>\n",
       "      <td>8210000.0</td>\n",
       "      <td>2840000.0</td>\n",
       "      <td>0.0</td>\n",
       "      <td>1150000.0</td>\n",
       "    </tr>\n",
       "  </tbody>\n",
       "</table>\n",
       "</div>"
      ],
      "text/plain": [
       "   Year  North America      Europe     Japan  Rest of World\n",
       "0  2013     12140000.0   6030000.0   20000.0      1810000.0\n",
       "1  2014     35920000.0  20560000.0  170000.0      5510000.0\n",
       "2  2015     42160000.0  19970000.0  230000.0      6290000.0\n",
       "3  2016     34190000.0  17900000.0   80000.0      5270000.0\n",
       "4  2017     30060000.0  13860000.0   10000.0      4460000.0\n",
       "5  2018      8210000.0   2840000.0       0.0      1150000.0"
      ]
     },
     "execution_count": 26,
     "metadata": {},
     "output_type": "execute_result"
    }
   ],
   "source": [
    "df_aux_xbox = df_xbox.groupby(['Year'], as_index=False)[df.describe(include=float).columns].sum()\n",
    "df_aux_xbox.drop('Global', axis=1, inplace=True)\n",
    "df_aux_xbox"
   ]
  },
  {
   "cell_type": "code",
   "execution_count": 27,
   "id": "c0c19345",
   "metadata": {
    "scrolled": false
   },
   "outputs": [
    {
     "data": {
      "application/vnd.plotly.v1+json": {
       "config": {
        "plotlyServerURL": "https://plot.ly"
       },
       "data": [
        {
         "hoverlabel": {
          "font": {
           "size": 16
          }
         },
         "hovertemplate": "<b>North America</b><br>Profit = %{y}<extra></extra>",
         "legendgroup": "North America",
         "line": {
          "color": "rgb(76,114,176)",
          "dash": "solid",
          "width": 5
         },
         "marker": {
          "size": 15,
          "symbol": "circle"
         },
         "mode": "lines",
         "name": "North America",
         "orientation": "v",
         "showlegend": true,
         "textposition": "top center",
         "texttemplate": "<b>%{text:$,.3s}</b>",
         "type": "scatter",
         "x": [
          2013,
          2014,
          2015,
          2016,
          2017,
          2018
         ],
         "xaxis": "x",
         "y": [
          12140000,
          35920000,
          42160000,
          34190000,
          30060000,
          8210000
         ],
         "yaxis": "y"
        },
        {
         "hoverlabel": {
          "font": {
           "size": 16
          }
         },
         "hovertemplate": "<b>Europe</b><br>Profit = %{y}<extra></extra>",
         "legendgroup": "Europe",
         "line": {
          "color": "rgb(221,132,82)",
          "dash": "solid",
          "width": 5
         },
         "marker": {
          "size": 15,
          "symbol": "circle"
         },
         "mode": "lines",
         "name": "Europe",
         "orientation": "v",
         "showlegend": true,
         "textposition": "top center",
         "texttemplate": "<b>%{text:$,.3s}</b>",
         "type": "scatter",
         "x": [
          2013,
          2014,
          2015,
          2016,
          2017,
          2018
         ],
         "xaxis": "x",
         "y": [
          6030000,
          20560000,
          19970000,
          17900000,
          13860000,
          2840000
         ],
         "yaxis": "y"
        },
        {
         "hoverlabel": {
          "font": {
           "size": 16
          }
         },
         "hovertemplate": "<b>Japan</b><br>Profit = %{y}<extra></extra>",
         "legendgroup": "Japan",
         "line": {
          "color": "rgb(85,168,104)",
          "dash": "solid",
          "width": 5
         },
         "marker": {
          "size": 15,
          "symbol": "circle"
         },
         "mode": "lines",
         "name": "Japan",
         "orientation": "v",
         "showlegend": true,
         "textposition": "top center",
         "texttemplate": "<b>%{text:$,.3s}</b>",
         "type": "scatter",
         "x": [
          2013,
          2014,
          2015,
          2016,
          2017,
          2018
         ],
         "xaxis": "x",
         "y": [
          20000,
          170000,
          230000,
          80000,
          10000,
          0
         ],
         "yaxis": "y"
        },
        {
         "hoverlabel": {
          "font": {
           "size": 16
          }
         },
         "hovertemplate": "<b>Rest of World</b><br>Profit = %{y}<extra></extra>",
         "legendgroup": "Rest of World",
         "line": {
          "color": "rgb(196,78,82)",
          "dash": "solid",
          "width": 5
         },
         "marker": {
          "size": 15,
          "symbol": "circle"
         },
         "mode": "lines",
         "name": "Rest of World",
         "orientation": "v",
         "showlegend": true,
         "textposition": "top center",
         "texttemplate": "<b>%{text:$,.3s}</b>",
         "type": "scatter",
         "x": [
          2013,
          2014,
          2015,
          2016,
          2017,
          2018
         ],
         "xaxis": "x",
         "y": [
          1810000,
          5510000,
          6290000,
          5270000,
          4460000,
          1150000
         ],
         "yaxis": "y"
        },
        {
         "hoverlabel": {
          "font": {
           "size": 16
          }
         },
         "hovertemplate": "<b>Global</b><br>Profit = %{y}<extra></extra>",
         "legendgroup": "Global",
         "line": {
          "color": "rgb(129,114,179)",
          "dash": "solid",
          "width": 5
         },
         "marker": {
          "size": 15,
          "symbol": "circle"
         },
         "mode": "lines",
         "name": "Global",
         "orientation": "v",
         "showlegend": false,
         "textposition": "top center",
         "texttemplate": "<b>%{text:$,.3s}</b>",
         "type": "scatter",
         "visible": "legendonly",
         "x": [
          2013,
          2014,
          2015,
          2016,
          2017,
          2018
         ],
         "xaxis": "x",
         "y": [
          20000000,
          62160000,
          68650000,
          57440000,
          48390000,
          12200000
         ],
         "yaxis": "y"
        }
       ],
       "layout": {
        "font": {
         "size": 16
        },
        "hovermode": "x unified",
        "legend": {
         "font": {
          "size": 16
         },
         "title": {},
         "tracegroupgap": 0,
         "x": 0,
         "xanchor": "left",
         "y": 1.1,
         "yanchor": "top"
        },
        "paper_bgcolor": "rgba(0,0,0,0)",
        "plot_bgcolor": "rgba(0,0,0,0)",
        "template": {
         "data": {
          "bar": [
           {
            "error_x": {
             "color": "rgb(36,36,36)"
            },
            "error_y": {
             "color": "rgb(36,36,36)"
            },
            "marker": {
             "line": {
              "color": "rgb(234,234,242)",
              "width": 0.5
             },
             "pattern": {
              "fillmode": "overlay",
              "size": 10,
              "solidity": 0.2
             }
            },
            "type": "bar"
           }
          ],
          "barpolar": [
           {
            "marker": {
             "line": {
              "color": "rgb(234,234,242)",
              "width": 0.5
             },
             "pattern": {
              "fillmode": "overlay",
              "size": 10,
              "solidity": 0.2
             }
            },
            "type": "barpolar"
           }
          ],
          "carpet": [
           {
            "aaxis": {
             "endlinecolor": "rgb(36,36,36)",
             "gridcolor": "white",
             "linecolor": "white",
             "minorgridcolor": "white",
             "startlinecolor": "rgb(36,36,36)"
            },
            "baxis": {
             "endlinecolor": "rgb(36,36,36)",
             "gridcolor": "white",
             "linecolor": "white",
             "minorgridcolor": "white",
             "startlinecolor": "rgb(36,36,36)"
            },
            "type": "carpet"
           }
          ],
          "choropleth": [
           {
            "colorbar": {
             "outlinewidth": 0,
             "tickcolor": "rgb(36,36,36)",
             "ticklen": 8,
             "ticks": "outside",
             "tickwidth": 2
            },
            "type": "choropleth"
           }
          ],
          "contour": [
           {
            "colorbar": {
             "outlinewidth": 0,
             "tickcolor": "rgb(36,36,36)",
             "ticklen": 8,
             "ticks": "outside",
             "tickwidth": 2
            },
            "colorscale": [
             [
              0,
              "rgb(2,4,25)"
             ],
             [
              0.06274509803921569,
              "rgb(24,15,41)"
             ],
             [
              0.12549019607843137,
              "rgb(47,23,57)"
             ],
             [
              0.18823529411764706,
              "rgb(71,28,72)"
             ],
             [
              0.25098039215686274,
              "rgb(97,30,82)"
             ],
             [
              0.3137254901960784,
              "rgb(123,30,89)"
             ],
             [
              0.3764705882352941,
              "rgb(150,27,91)"
             ],
             [
              0.4392156862745098,
              "rgb(177,22,88)"
             ],
             [
              0.5019607843137255,
              "rgb(203,26,79)"
             ],
             [
              0.5647058823529412,
              "rgb(223,47,67)"
             ],
             [
              0.6274509803921569,
              "rgb(236,76,61)"
             ],
             [
              0.6901960784313725,
              "rgb(242,107,73)"
             ],
             [
              0.7529411764705882,
              "rgb(244,135,95)"
             ],
             [
              0.8156862745098039,
              "rgb(245,162,122)"
             ],
             [
              0.8784313725490196,
              "rgb(246,188,153)"
             ],
             [
              0.9411764705882353,
              "rgb(247,212,187)"
             ],
             [
              1,
              "rgb(250,234,220)"
             ]
            ],
            "type": "contour"
           }
          ],
          "contourcarpet": [
           {
            "colorbar": {
             "outlinewidth": 0,
             "tickcolor": "rgb(36,36,36)",
             "ticklen": 8,
             "ticks": "outside",
             "tickwidth": 2
            },
            "type": "contourcarpet"
           }
          ],
          "heatmap": [
           {
            "colorbar": {
             "outlinewidth": 0,
             "tickcolor": "rgb(36,36,36)",
             "ticklen": 8,
             "ticks": "outside",
             "tickwidth": 2
            },
            "colorscale": [
             [
              0,
              "rgb(2,4,25)"
             ],
             [
              0.06274509803921569,
              "rgb(24,15,41)"
             ],
             [
              0.12549019607843137,
              "rgb(47,23,57)"
             ],
             [
              0.18823529411764706,
              "rgb(71,28,72)"
             ],
             [
              0.25098039215686274,
              "rgb(97,30,82)"
             ],
             [
              0.3137254901960784,
              "rgb(123,30,89)"
             ],
             [
              0.3764705882352941,
              "rgb(150,27,91)"
             ],
             [
              0.4392156862745098,
              "rgb(177,22,88)"
             ],
             [
              0.5019607843137255,
              "rgb(203,26,79)"
             ],
             [
              0.5647058823529412,
              "rgb(223,47,67)"
             ],
             [
              0.6274509803921569,
              "rgb(236,76,61)"
             ],
             [
              0.6901960784313725,
              "rgb(242,107,73)"
             ],
             [
              0.7529411764705882,
              "rgb(244,135,95)"
             ],
             [
              0.8156862745098039,
              "rgb(245,162,122)"
             ],
             [
              0.8784313725490196,
              "rgb(246,188,153)"
             ],
             [
              0.9411764705882353,
              "rgb(247,212,187)"
             ],
             [
              1,
              "rgb(250,234,220)"
             ]
            ],
            "type": "heatmap"
           }
          ],
          "heatmapgl": [
           {
            "colorbar": {
             "outlinewidth": 0,
             "tickcolor": "rgb(36,36,36)",
             "ticklen": 8,
             "ticks": "outside",
             "tickwidth": 2
            },
            "colorscale": [
             [
              0,
              "rgb(2,4,25)"
             ],
             [
              0.06274509803921569,
              "rgb(24,15,41)"
             ],
             [
              0.12549019607843137,
              "rgb(47,23,57)"
             ],
             [
              0.18823529411764706,
              "rgb(71,28,72)"
             ],
             [
              0.25098039215686274,
              "rgb(97,30,82)"
             ],
             [
              0.3137254901960784,
              "rgb(123,30,89)"
             ],
             [
              0.3764705882352941,
              "rgb(150,27,91)"
             ],
             [
              0.4392156862745098,
              "rgb(177,22,88)"
             ],
             [
              0.5019607843137255,
              "rgb(203,26,79)"
             ],
             [
              0.5647058823529412,
              "rgb(223,47,67)"
             ],
             [
              0.6274509803921569,
              "rgb(236,76,61)"
             ],
             [
              0.6901960784313725,
              "rgb(242,107,73)"
             ],
             [
              0.7529411764705882,
              "rgb(244,135,95)"
             ],
             [
              0.8156862745098039,
              "rgb(245,162,122)"
             ],
             [
              0.8784313725490196,
              "rgb(246,188,153)"
             ],
             [
              0.9411764705882353,
              "rgb(247,212,187)"
             ],
             [
              1,
              "rgb(250,234,220)"
             ]
            ],
            "type": "heatmapgl"
           }
          ],
          "histogram": [
           {
            "marker": {
             "pattern": {
              "fillmode": "overlay",
              "size": 10,
              "solidity": 0.2
             }
            },
            "type": "histogram"
           }
          ],
          "histogram2d": [
           {
            "colorbar": {
             "outlinewidth": 0,
             "tickcolor": "rgb(36,36,36)",
             "ticklen": 8,
             "ticks": "outside",
             "tickwidth": 2
            },
            "colorscale": [
             [
              0,
              "rgb(2,4,25)"
             ],
             [
              0.06274509803921569,
              "rgb(24,15,41)"
             ],
             [
              0.12549019607843137,
              "rgb(47,23,57)"
             ],
             [
              0.18823529411764706,
              "rgb(71,28,72)"
             ],
             [
              0.25098039215686274,
              "rgb(97,30,82)"
             ],
             [
              0.3137254901960784,
              "rgb(123,30,89)"
             ],
             [
              0.3764705882352941,
              "rgb(150,27,91)"
             ],
             [
              0.4392156862745098,
              "rgb(177,22,88)"
             ],
             [
              0.5019607843137255,
              "rgb(203,26,79)"
             ],
             [
              0.5647058823529412,
              "rgb(223,47,67)"
             ],
             [
              0.6274509803921569,
              "rgb(236,76,61)"
             ],
             [
              0.6901960784313725,
              "rgb(242,107,73)"
             ],
             [
              0.7529411764705882,
              "rgb(244,135,95)"
             ],
             [
              0.8156862745098039,
              "rgb(245,162,122)"
             ],
             [
              0.8784313725490196,
              "rgb(246,188,153)"
             ],
             [
              0.9411764705882353,
              "rgb(247,212,187)"
             ],
             [
              1,
              "rgb(250,234,220)"
             ]
            ],
            "type": "histogram2d"
           }
          ],
          "histogram2dcontour": [
           {
            "colorbar": {
             "outlinewidth": 0,
             "tickcolor": "rgb(36,36,36)",
             "ticklen": 8,
             "ticks": "outside",
             "tickwidth": 2
            },
            "colorscale": [
             [
              0,
              "rgb(2,4,25)"
             ],
             [
              0.06274509803921569,
              "rgb(24,15,41)"
             ],
             [
              0.12549019607843137,
              "rgb(47,23,57)"
             ],
             [
              0.18823529411764706,
              "rgb(71,28,72)"
             ],
             [
              0.25098039215686274,
              "rgb(97,30,82)"
             ],
             [
              0.3137254901960784,
              "rgb(123,30,89)"
             ],
             [
              0.3764705882352941,
              "rgb(150,27,91)"
             ],
             [
              0.4392156862745098,
              "rgb(177,22,88)"
             ],
             [
              0.5019607843137255,
              "rgb(203,26,79)"
             ],
             [
              0.5647058823529412,
              "rgb(223,47,67)"
             ],
             [
              0.6274509803921569,
              "rgb(236,76,61)"
             ],
             [
              0.6901960784313725,
              "rgb(242,107,73)"
             ],
             [
              0.7529411764705882,
              "rgb(244,135,95)"
             ],
             [
              0.8156862745098039,
              "rgb(245,162,122)"
             ],
             [
              0.8784313725490196,
              "rgb(246,188,153)"
             ],
             [
              0.9411764705882353,
              "rgb(247,212,187)"
             ],
             [
              1,
              "rgb(250,234,220)"
             ]
            ],
            "type": "histogram2dcontour"
           }
          ],
          "mesh3d": [
           {
            "colorbar": {
             "outlinewidth": 0,
             "tickcolor": "rgb(36,36,36)",
             "ticklen": 8,
             "ticks": "outside",
             "tickwidth": 2
            },
            "type": "mesh3d"
           }
          ],
          "parcoords": [
           {
            "line": {
             "colorbar": {
              "outlinewidth": 0,
              "tickcolor": "rgb(36,36,36)",
              "ticklen": 8,
              "ticks": "outside",
              "tickwidth": 2
             }
            },
            "type": "parcoords"
           }
          ],
          "pie": [
           {
            "automargin": true,
            "type": "pie"
           }
          ],
          "scatter": [
           {
            "fillpattern": {
             "fillmode": "overlay",
             "size": 10,
             "solidity": 0.2
            },
            "type": "scatter"
           }
          ],
          "scatter3d": [
           {
            "line": {
             "colorbar": {
              "outlinewidth": 0,
              "tickcolor": "rgb(36,36,36)",
              "ticklen": 8,
              "ticks": "outside",
              "tickwidth": 2
             }
            },
            "marker": {
             "colorbar": {
              "outlinewidth": 0,
              "tickcolor": "rgb(36,36,36)",
              "ticklen": 8,
              "ticks": "outside",
              "tickwidth": 2
             }
            },
            "type": "scatter3d"
           }
          ],
          "scattercarpet": [
           {
            "marker": {
             "colorbar": {
              "outlinewidth": 0,
              "tickcolor": "rgb(36,36,36)",
              "ticklen": 8,
              "ticks": "outside",
              "tickwidth": 2
             }
            },
            "type": "scattercarpet"
           }
          ],
          "scattergeo": [
           {
            "marker": {
             "colorbar": {
              "outlinewidth": 0,
              "tickcolor": "rgb(36,36,36)",
              "ticklen": 8,
              "ticks": "outside",
              "tickwidth": 2
             }
            },
            "type": "scattergeo"
           }
          ],
          "scattergl": [
           {
            "marker": {
             "colorbar": {
              "outlinewidth": 0,
              "tickcolor": "rgb(36,36,36)",
              "ticklen": 8,
              "ticks": "outside",
              "tickwidth": 2
             }
            },
            "type": "scattergl"
           }
          ],
          "scattermapbox": [
           {
            "marker": {
             "colorbar": {
              "outlinewidth": 0,
              "tickcolor": "rgb(36,36,36)",
              "ticklen": 8,
              "ticks": "outside",
              "tickwidth": 2
             }
            },
            "type": "scattermapbox"
           }
          ],
          "scatterpolar": [
           {
            "marker": {
             "colorbar": {
              "outlinewidth": 0,
              "tickcolor": "rgb(36,36,36)",
              "ticklen": 8,
              "ticks": "outside",
              "tickwidth": 2
             }
            },
            "type": "scatterpolar"
           }
          ],
          "scatterpolargl": [
           {
            "marker": {
             "colorbar": {
              "outlinewidth": 0,
              "tickcolor": "rgb(36,36,36)",
              "ticklen": 8,
              "ticks": "outside",
              "tickwidth": 2
             }
            },
            "type": "scatterpolargl"
           }
          ],
          "scatterternary": [
           {
            "marker": {
             "colorbar": {
              "outlinewidth": 0,
              "tickcolor": "rgb(36,36,36)",
              "ticklen": 8,
              "ticks": "outside",
              "tickwidth": 2
             }
            },
            "type": "scatterternary"
           }
          ],
          "surface": [
           {
            "colorbar": {
             "outlinewidth": 0,
             "tickcolor": "rgb(36,36,36)",
             "ticklen": 8,
             "ticks": "outside",
             "tickwidth": 2
            },
            "colorscale": [
             [
              0,
              "rgb(2,4,25)"
             ],
             [
              0.06274509803921569,
              "rgb(24,15,41)"
             ],
             [
              0.12549019607843137,
              "rgb(47,23,57)"
             ],
             [
              0.18823529411764706,
              "rgb(71,28,72)"
             ],
             [
              0.25098039215686274,
              "rgb(97,30,82)"
             ],
             [
              0.3137254901960784,
              "rgb(123,30,89)"
             ],
             [
              0.3764705882352941,
              "rgb(150,27,91)"
             ],
             [
              0.4392156862745098,
              "rgb(177,22,88)"
             ],
             [
              0.5019607843137255,
              "rgb(203,26,79)"
             ],
             [
              0.5647058823529412,
              "rgb(223,47,67)"
             ],
             [
              0.6274509803921569,
              "rgb(236,76,61)"
             ],
             [
              0.6901960784313725,
              "rgb(242,107,73)"
             ],
             [
              0.7529411764705882,
              "rgb(244,135,95)"
             ],
             [
              0.8156862745098039,
              "rgb(245,162,122)"
             ],
             [
              0.8784313725490196,
              "rgb(246,188,153)"
             ],
             [
              0.9411764705882353,
              "rgb(247,212,187)"
             ],
             [
              1,
              "rgb(250,234,220)"
             ]
            ],
            "type": "surface"
           }
          ],
          "table": [
           {
            "cells": {
             "fill": {
              "color": "rgb(231,231,240)"
             },
             "line": {
              "color": "white"
             }
            },
            "header": {
             "fill": {
              "color": "rgb(183,183,191)"
             },
             "line": {
              "color": "white"
             }
            },
            "type": "table"
           }
          ]
         },
         "layout": {
          "annotationdefaults": {
           "arrowcolor": "rgb(67,103,167)"
          },
          "autotypenumbers": "strict",
          "coloraxis": {
           "colorbar": {
            "outlinewidth": 0,
            "tickcolor": "rgb(36,36,36)",
            "ticklen": 8,
            "ticks": "outside",
            "tickwidth": 2
           }
          },
          "colorscale": {
           "sequential": [
            [
             0,
             "rgb(2,4,25)"
            ],
            [
             0.06274509803921569,
             "rgb(24,15,41)"
            ],
            [
             0.12549019607843137,
             "rgb(47,23,57)"
            ],
            [
             0.18823529411764706,
             "rgb(71,28,72)"
            ],
            [
             0.25098039215686274,
             "rgb(97,30,82)"
            ],
            [
             0.3137254901960784,
             "rgb(123,30,89)"
            ],
            [
             0.3764705882352941,
             "rgb(150,27,91)"
            ],
            [
             0.4392156862745098,
             "rgb(177,22,88)"
            ],
            [
             0.5019607843137255,
             "rgb(203,26,79)"
            ],
            [
             0.5647058823529412,
             "rgb(223,47,67)"
            ],
            [
             0.6274509803921569,
             "rgb(236,76,61)"
            ],
            [
             0.6901960784313725,
             "rgb(242,107,73)"
            ],
            [
             0.7529411764705882,
             "rgb(244,135,95)"
            ],
            [
             0.8156862745098039,
             "rgb(245,162,122)"
            ],
            [
             0.8784313725490196,
             "rgb(246,188,153)"
            ],
            [
             0.9411764705882353,
             "rgb(247,212,187)"
            ],
            [
             1,
             "rgb(250,234,220)"
            ]
           ],
           "sequentialminus": [
            [
             0,
             "rgb(2,4,25)"
            ],
            [
             0.06274509803921569,
             "rgb(24,15,41)"
            ],
            [
             0.12549019607843137,
             "rgb(47,23,57)"
            ],
            [
             0.18823529411764706,
             "rgb(71,28,72)"
            ],
            [
             0.25098039215686274,
             "rgb(97,30,82)"
            ],
            [
             0.3137254901960784,
             "rgb(123,30,89)"
            ],
            [
             0.3764705882352941,
             "rgb(150,27,91)"
            ],
            [
             0.4392156862745098,
             "rgb(177,22,88)"
            ],
            [
             0.5019607843137255,
             "rgb(203,26,79)"
            ],
            [
             0.5647058823529412,
             "rgb(223,47,67)"
            ],
            [
             0.6274509803921569,
             "rgb(236,76,61)"
            ],
            [
             0.6901960784313725,
             "rgb(242,107,73)"
            ],
            [
             0.7529411764705882,
             "rgb(244,135,95)"
            ],
            [
             0.8156862745098039,
             "rgb(245,162,122)"
            ],
            [
             0.8784313725490196,
             "rgb(246,188,153)"
            ],
            [
             0.9411764705882353,
             "rgb(247,212,187)"
            ],
            [
             1,
             "rgb(250,234,220)"
            ]
           ]
          },
          "colorway": [
           "rgb(76,114,176)",
           "rgb(221,132,82)",
           "rgb(85,168,104)",
           "rgb(196,78,82)",
           "rgb(129,114,179)",
           "rgb(147,120,96)",
           "rgb(218,139,195)",
           "rgb(140,140,140)",
           "rgb(204,185,116)",
           "rgb(100,181,205)"
          ],
          "font": {
           "color": "rgb(36,36,36)"
          },
          "geo": {
           "bgcolor": "white",
           "lakecolor": "white",
           "landcolor": "rgb(234,234,242)",
           "showlakes": true,
           "showland": true,
           "subunitcolor": "white"
          },
          "hoverlabel": {
           "align": "left"
          },
          "hovermode": "closest",
          "paper_bgcolor": "white",
          "plot_bgcolor": "rgb(234,234,242)",
          "polar": {
           "angularaxis": {
            "gridcolor": "white",
            "linecolor": "white",
            "showgrid": true,
            "ticks": ""
           },
           "bgcolor": "rgb(234,234,242)",
           "radialaxis": {
            "gridcolor": "white",
            "linecolor": "white",
            "showgrid": true,
            "ticks": ""
           }
          },
          "scene": {
           "xaxis": {
            "backgroundcolor": "rgb(234,234,242)",
            "gridcolor": "white",
            "gridwidth": 2,
            "linecolor": "white",
            "showbackground": true,
            "showgrid": true,
            "ticks": "",
            "zerolinecolor": "white"
           },
           "yaxis": {
            "backgroundcolor": "rgb(234,234,242)",
            "gridcolor": "white",
            "gridwidth": 2,
            "linecolor": "white",
            "showbackground": true,
            "showgrid": true,
            "ticks": "",
            "zerolinecolor": "white"
           },
           "zaxis": {
            "backgroundcolor": "rgb(234,234,242)",
            "gridcolor": "white",
            "gridwidth": 2,
            "linecolor": "white",
            "showbackground": true,
            "showgrid": true,
            "ticks": "",
            "zerolinecolor": "white"
           }
          },
          "shapedefaults": {
           "fillcolor": "rgb(67,103,167)",
           "line": {
            "width": 0
           },
           "opacity": 0.5
          },
          "ternary": {
           "aaxis": {
            "gridcolor": "white",
            "linecolor": "white",
            "showgrid": true,
            "ticks": ""
           },
           "baxis": {
            "gridcolor": "white",
            "linecolor": "white",
            "showgrid": true,
            "ticks": ""
           },
           "bgcolor": "rgb(234,234,242)",
           "caxis": {
            "gridcolor": "white",
            "linecolor": "white",
            "showgrid": true,
            "ticks": ""
           }
          },
          "xaxis": {
           "automargin": true,
           "gridcolor": "white",
           "linecolor": "white",
           "showgrid": true,
           "ticks": "",
           "title": {
            "standoff": 15
           },
           "zerolinecolor": "white"
          },
          "yaxis": {
           "automargin": true,
           "gridcolor": "white",
           "linecolor": "white",
           "showgrid": true,
           "ticks": "",
           "title": {
            "standoff": 15
           },
           "zerolinecolor": "white"
          }
         }
        },
        "title": {
         "text": "Xbox One",
         "x": 0.12,
         "xanchor": "left",
         "y": 0.95,
         "yanchor": "top"
        },
        "xaxis": {
         "anchor": "y",
         "domain": [
          0,
          1
         ],
         "showgrid": false,
         "title": {
          "text": "Year"
         },
         "zeroline": false
        },
        "yaxis": {
         "anchor": "x",
         "domain": [
          0,
          1
         ],
         "rangemode": "tozero",
         "showgrid": false,
         "title": {
          "text": ""
         },
         "visible": false,
         "zeroline": false
        }
       }
      }
     },
     "metadata": {},
     "output_type": "display_data"
    }
   ],
   "source": [
    "figline = line(df_xbox.groupby('Year', as_index=False)[df_xbox.describe(include=float).columns].sum(), hovermode='x unified', hover=True, title='Xbox One', x='Year', y=df_xbox.describe(include=float).columns)\n",
    "\n",
    "figline.update_layout(legend=dict(x=0 , y=1.1, xanchor='left',yanchor='top'))\n",
    "\n",
    "for region in df.describe(include=float).columns:\n",
    "    figline.update_traces(\n",
    "        selector=dict(name=region),\n",
    "        hovertemplate='<b>' + region + '</b><br>Profit = %{y}<extra></extra>'\n",
    "    )\n",
    "\n",
    "figline.update_traces(\n",
    "    selector={'name':'Global'}, \n",
    "    showlegend=False, \n",
    "    visible='legendonly', \n",
    ")"
   ]
  },
  {
   "cell_type": "code",
   "execution_count": 28,
   "id": "488b7d69",
   "metadata": {},
   "outputs": [],
   "source": [
    "from dash import html, dcc, Dash\n",
    "import dash_bootstrap_components as dbc"
   ]
  },
  {
   "cell_type": "code",
   "execution_count": 29,
   "id": "e3e29992",
   "metadata": {},
   "outputs": [],
   "source": [
    "def title():\n",
    "    return html.Div([\n",
    "        html.H1(['Overview of Sales on Xbox One and PS4'])\n",
    "    ])"
   ]
  },
  {
   "cell_type": "code",
   "execution_count": 30,
   "id": "815d6d5b",
   "metadata": {},
   "outputs": [],
   "source": [
    "app = Dash(__name__, external_stylesheets = dbc.themes.BOOTSTRAP)"
   ]
  },
  {
   "cell_type": "code",
   "execution_count": 31,
   "id": "27cbb32b",
   "metadata": {},
   "outputs": [],
   "source": [
    "app.layout = dbc.Container([])"
   ]
  },
  {
   "cell_type": "code",
   "execution_count": 32,
   "id": "6b4fa3f8",
   "metadata": {
    "scrolled": true
   },
   "outputs": [
    {
     "name": "stdout",
     "output_type": "stream",
     "text": [
      "Dash is running on http://127.0.0.1:8050/\n",
      "\n",
      " * Serving Flask app '__main__' (lazy loading)\n",
      " * Environment: production\n",
      "\u001b[31m   WARNING: This is a development server. Do not use it in a production deployment.\u001b[0m\n",
      "\u001b[2m   Use a production WSGI server instead.\u001b[0m\n",
      " * Debug mode: off\n"
     ]
    },
    {
     "name": "stderr",
     "output_type": "stream",
     "text": [
      " * Running on http://127.0.0.1:8050 (Press CTRL+C to quit)\n"
     ]
    },
    {
     "name": "stdout",
     "output_type": "stream",
     "text": [
      "Exception on / [GET]\n",
      "Traceback (most recent call last):\n",
      "  File \"/var/data/python/lib/python3.9/site-packages/flask/app.py\", line 2077, in wsgi_app\n",
      "    response = self.full_dispatch_request()\n",
      "  File \"/var/data/python/lib/python3.9/site-packages/flask/app.py\", line 1518, in full_dispatch_request\n",
      "    self.try_trigger_before_first_request_functions()\n",
      "  File \"/var/data/python/lib/python3.9/site-packages/flask/app.py\", line 1570, in try_trigger_before_first_request_functions\n",
      "    self.ensure_sync(func)()\n",
      "  File \"/var/data/python/lib/python3.9/site-packages/dash/dash.py\", line 1495, in _setup_server\n",
      "    self._generate_css_dist_html()\n",
      "  File \"/var/data/python/lib/python3.9/site-packages/dash/dash.py\", line 771, in _generate_css_dist_html\n",
      "    for link in (external_links + links)\n",
      "TypeError: can only concatenate str (not \"list\") to str\n"
     ]
    },
    {
     "name": "stderr",
     "output_type": "stream",
     "text": [
      "127.0.0.1 - - [30/Jun/2022 17:25:58] \"\u001b[35m\u001b[1mGET / HTTP/1.1\u001b[0m\" 500 -\n"
     ]
    },
    {
     "name": "stdout",
     "output_type": "stream",
     "text": [
      "Exception on /favicon.ico [GET]\n",
      "Traceback (most recent call last):\n",
      "  File \"/var/data/python/lib/python3.9/site-packages/flask/app.py\", line 2077, in wsgi_app\n",
      "    response = self.full_dispatch_request()\n",
      "  File \"/var/data/python/lib/python3.9/site-packages/flask/app.py\", line 1518, in full_dispatch_request\n",
      "    self.try_trigger_before_first_request_functions()\n",
      "  File \"/var/data/python/lib/python3.9/site-packages/flask/app.py\", line 1570, in try_trigger_before_first_request_functions\n",
      "    self.ensure_sync(func)()\n",
      "  File \"/var/data/python/lib/python3.9/site-packages/dash/dash.py\", line 1495, in _setup_server\n",
      "    self._generate_css_dist_html()\n",
      "  File \"/var/data/python/lib/python3.9/site-packages/dash/dash.py\", line 771, in _generate_css_dist_html\n",
      "    for link in (external_links + links)\n",
      "TypeError: can only concatenate str (not \"list\") to str\n"
     ]
    },
    {
     "name": "stderr",
     "output_type": "stream",
     "text": [
      "127.0.0.1 - - [30/Jun/2022 17:25:58] \"\u001b[35m\u001b[1mGET /favicon.ico HTTP/1.1\u001b[0m\" 500 -\n"
     ]
    }
   ],
   "source": [
    "if __name__ == '__main__':\n",
    "    app.run_server(debug=False, use_reloader=False)"
   ]
  },
  {
   "cell_type": "code",
   "execution_count": null,
   "id": "8ff8f8e5",
   "metadata": {},
   "outputs": [],
   "source": []
  }
 ],
 "metadata": {
  "interpreter": {
   "hash": "e7370f93d1d0cde622a1f8e1c04877d8463912d04d973331ad4851f04de6915a"
  },
  "kernelspec": {
   "display_name": "Python 3.9.9 64-bit",
   "language": "python",
   "name": "python3"
  },
  "language_info": {
   "codemirror_mode": {
    "name": "ipython",
    "version": 3
   },
   "file_extension": ".py",
   "mimetype": "text/x-python",
   "name": "python",
   "nbconvert_exporter": "python",
   "pygments_lexer": "ipython3",
   "version": "3.9.9"
  }
 },
 "nbformat": 4,
 "nbformat_minor": 5
}
